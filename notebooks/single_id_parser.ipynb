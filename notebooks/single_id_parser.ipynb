{
 "cells": [
  {
   "cell_type": "code",
   "execution_count": 1,
   "id": "c732745c-7de2-4342-abde-aad54b798fe6",
   "metadata": {},
   "outputs": [],
   "source": [
    "import requests\n",
    "import json\n",
    "import pandas as pd"
   ]
  },
  {
   "cell_type": "code",
   "execution_count": 2,
   "id": "3f13ed66-7c0e-43f7-8ab7-09da3b9c99e3",
   "metadata": {},
   "outputs": [
    {
     "data": {
      "text/html": [
       "<div>\n",
       "<style scoped>\n",
       "    .dataframe tbody tr th:only-of-type {\n",
       "        vertical-align: middle;\n",
       "    }\n",
       "\n",
       "    .dataframe tbody tr th {\n",
       "        vertical-align: top;\n",
       "    }\n",
       "\n",
       "    .dataframe thead th {\n",
       "        text-align: right;\n",
       "    }\n",
       "</style>\n",
       "<table border=\"1\" class=\"dataframe\">\n",
       "  <thead>\n",
       "    <tr style=\"text-align: right;\">\n",
       "      <th></th>\n",
       "      <th>steamid</th>\n",
       "      <th>4500</th>\n",
       "      <th>20900</th>\n",
       "      <th>15370</th>\n",
       "      <th>17410</th>\n",
       "      <th>1250</th>\n",
       "      <th>35420</th>\n",
       "      <th>22320</th>\n",
       "      <th>6060</th>\n",
       "      <th>32370</th>\n",
       "      <th>...</th>\n",
       "      <th>879160</th>\n",
       "      <th>1057090</th>\n",
       "      <th>1079000</th>\n",
       "      <th>1081510</th>\n",
       "      <th>617290</th>\n",
       "      <th>1265920</th>\n",
       "      <th>1265930</th>\n",
       "      <th>1284410</th>\n",
       "      <th>1139900</th>\n",
       "      <th>1794680</th>\n",
       "    </tr>\n",
       "  </thead>\n",
       "  <tbody>\n",
       "    <tr>\n",
       "      <th>0</th>\n",
       "      <td>76561198051647982</td>\n",
       "      <td>0</td>\n",
       "      <td>2688</td>\n",
       "      <td>2873</td>\n",
       "      <td>13</td>\n",
       "      <td>63</td>\n",
       "      <td>0</td>\n",
       "      <td>14</td>\n",
       "      <td>600</td>\n",
       "      <td>2389</td>\n",
       "      <td>...</td>\n",
       "      <td>4</td>\n",
       "      <td>372</td>\n",
       "      <td>130</td>\n",
       "      <td>0</td>\n",
       "      <td>516</td>\n",
       "      <td>0</td>\n",
       "      <td>0</td>\n",
       "      <td>611</td>\n",
       "      <td>35</td>\n",
       "      <td>646</td>\n",
       "    </tr>\n",
       "  </tbody>\n",
       "</table>\n",
       "<p>1 rows × 154 columns</p>\n",
       "</div>"
      ],
      "text/plain": [
       "             steamid  4500  20900  15370  17410  1250  35420  22320  6060  \\\n",
       "0  76561198051647982     0   2688   2873     13    63      0     14   600   \n",
       "\n",
       "   32370  ...  879160  1057090  1079000  1081510  617290  1265920  1265930  \\\n",
       "0   2389  ...       4      372      130        0     516        0        0   \n",
       "\n",
       "   1284410  1139900  1794680  \n",
       "0      611       35      646  \n",
       "\n",
       "[1 rows x 154 columns]"
      ]
     },
     "execution_count": 2,
     "metadata": {},
     "output_type": "execute_result"
    }
   ],
   "source": [
    "steamid = 76561198051647982 #айдишник пользователя\n",
    "url = f'https://api.steampowered.com/IPlayerService/GetOwnedGames/v1/?key=ED07BAAA8209FFE5932318F82B8242A6&format=json&steamid={steamid}'\n",
    "response = requests.get(url)#, headers={ 'Accept-Language': 'en-EN, en;q=0.9'})\n",
    "profile = response.json()   \n",
    "id_df = pd.DataFrame([steamid],columns=['steamid'])\n",
    "for game in profile['response']['games']:\n",
    "\n",
    "    appid = game['appid']\n",
    "    playtime = game['playtime_forever']\n",
    "    temp_df = pd.DataFrame({\n",
    "                    'steamid': [steamid],\n",
    "                    appid: [playtime]\n",
    "                })\n",
    "    id_df = pd.merge(id_df, temp_df, on='steamid', how=\"inner\")\n",
    "id_df"
   ]
  },
  {
   "cell_type": "code",
   "execution_count": null,
   "id": "b89da45d-a287-4345-827f-f5465c3e282b",
   "metadata": {},
   "outputs": [],
   "source": []
  }
 ],
 "metadata": {
  "kernelspec": {
   "display_name": "Python 3 (ipykernel)",
   "language": "python",
   "name": "python3"
  },
  "language_info": {
   "codemirror_mode": {
    "name": "ipython",
    "version": 3
   },
   "file_extension": ".py",
   "mimetype": "text/x-python",
   "name": "python",
   "nbconvert_exporter": "python",
   "pygments_lexer": "ipython3",
   "version": "3.10.10"
  }
 },
 "nbformat": 4,
 "nbformat_minor": 5
}
