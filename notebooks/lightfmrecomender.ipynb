{
 "cells": [
  {
   "cell_type": "code",
   "execution_count": 63,
   "metadata": {},
   "outputs": [
    {
     "name": "stdout",
     "output_type": "stream",
     "text": [
      "The autoreload extension is already loaded. To reload it, use:\n",
      "  %reload_ext autoreload\n"
     ]
    }
   ],
   "source": [
    "from lightfm_recomender import LightfmRecomender\n",
    "import os\n",
    "%load_ext autoreload\n",
    "%autoreload 2\n",
    "new_directory = '/Users/vasevooo/projects/GameBuddy'\n",
    "os.chdir(new_directory)\n",
    "import pandas as pd \n",
    "import requests\n",
    "import json\n",
    "from sklearn.preprocessing import MinMaxScaler, StandardScaler\n",
    "import numpy as np\n",
    "from lightfm import LightFM\n",
    "from scipy.sparse import csr_matrix, save_npz, load_npz"
   ]
  },
  {
   "attachments": {},
   "cell_type": "markdown",
   "metadata": {},
   "source": [
    "### обновление предобработанных данных для модели "
   ]
  },
  {
   "cell_type": "code",
   "execution_count": 159,
   "metadata": {},
   "outputs": [
    {
     "data": {
      "text/html": [
       "<div>\n",
       "<style scoped>\n",
       "    .dataframe tbody tr th:only-of-type {\n",
       "        vertical-align: middle;\n",
       "    }\n",
       "\n",
       "    .dataframe tbody tr th {\n",
       "        vertical-align: top;\n",
       "    }\n",
       "\n",
       "    .dataframe thead th {\n",
       "        text-align: right;\n",
       "    }\n",
       "</style>\n",
       "<table border=\"1\" class=\"dataframe\">\n",
       "  <thead>\n",
       "    <tr style=\"text-align: right;\">\n",
       "      <th></th>\n",
       "      <th>user_id</th>\n",
       "      <th>game_id</th>\n",
       "      <th>ranking</th>\n",
       "    </tr>\n",
       "  </thead>\n",
       "  <tbody>\n",
       "    <tr>\n",
       "      <th>0</th>\n",
       "      <td>76561198256283584</td>\n",
       "      <td>10</td>\n",
       "      <td>0</td>\n",
       "    </tr>\n",
       "    <tr>\n",
       "      <th>1</th>\n",
       "      <td>76561198256283584</td>\n",
       "      <td>20</td>\n",
       "      <td>0</td>\n",
       "    </tr>\n",
       "  </tbody>\n",
       "</table>\n",
       "</div>"
      ],
      "text/plain": [
       "             user_id  game_id  ranking\n",
       "0  76561198256283584       10        0\n",
       "1  76561198256283584       20        0"
      ]
     },
     "execution_count": 159,
     "metadata": {},
     "output_type": "execute_result"
    }
   ],
   "source": [
    "ru_ids = pd.read_csv('data/final_gametime_df.csv')\n",
    "transformed_data = []\n",
    "\n",
    "for index, row in ru_ids.iterrows():\n",
    "    user_id = row[-1]  \n",
    "    \n",
    "    for game_ids, ranking in row.items():\n",
    "        if game_ids != 'steamid':\n",
    "\n",
    "            transformed_data.append([user_id, game_ids, ranking])\n",
    "\n",
    "transformed_df = pd.DataFrame(transformed_data, columns=['user_id', 'game_id', 'ranking']).astype(int)\n",
    "transformed_df.head(2)"
   ]
  },
  {
   "cell_type": "code",
   "execution_count": 160,
   "metadata": {},
   "outputs": [],
   "source": [
    "scaler = MinMaxScaler(feature_range=(0, 100))\n",
    "\n",
    "transformed_df['ranking'] = transformed_df.groupby('game_id')['ranking'].transform(lambda x: scaler.fit_transform(x.values.reshape(-1, 1)).flatten())\n",
    "transformed_df['ranking'] = pd.to_numeric(transformed_df['ranking'])"
   ]
  },
  {
   "cell_type": "code",
   "execution_count": 161,
   "metadata": {},
   "outputs": [],
   "source": [
    "## сохранение df по юзерам для дальнейшего использования\n",
    "\n",
    "transformed_df.to_csv('data/for_models/users_games_df.csv', index=False)"
   ]
  },
  {
   "cell_type": "code",
   "execution_count": null,
   "metadata": {},
   "outputs": [],
   "source": []
  },
  {
   "cell_type": "code",
   "execution_count": 162,
   "metadata": {},
   "outputs": [],
   "source": [
    "games = pd.read_csv('data/game_info_with_scores.csv')\n",
    "item_dict ={}\n",
    "games = games[['appid', 'Name']].sort_values('appid').reset_index()\n",
    "games['appid'] = games['appid'].astype(int)\n",
    "\n",
    "for i in range(games.shape[0]):\n",
    "    item_dict[int(games.loc[i,'appid'])] = games.loc[i,'Name']"
   ]
  },
  {
   "cell_type": "code",
   "execution_count": 163,
   "metadata": {},
   "outputs": [],
   "source": [
    "## сохранение словаря по играм для дальнейшего использования\n",
    "\n",
    "with open(\"data/for_models/item_dict.json\", \"w\") as outfile:\n",
    "    json.dump(item_dict, outfile, indent=4)"
   ]
  },
  {
   "cell_type": "markdown",
   "metadata": {},
   "source": [
    "### Тест класса LigthFM Recomender"
   ]
  },
  {
   "cell_type": "code",
   "execution_count": 173,
   "metadata": {},
   "outputs": [],
   "source": [
    "item_dict_path = 'data/for_models/item_dict.json'\n",
    "users_games_df_path = 'data/for_models/users_games_df.csv'\n",
    "\n",
    "lfr = LightfmRecomender(users_games_df_path, item_dict_path)"
   ]
  },
  {
   "cell_type": "code",
   "execution_count": 174,
   "metadata": {},
   "outputs": [],
   "source": [
    "steamid = 76561197992623144"
   ]
  },
  {
   "cell_type": "code",
   "execution_count": 175,
   "metadata": {},
   "outputs": [],
   "source": [
    "new_user = lfr.get_user_games(steamid)"
   ]
  },
  {
   "cell_type": "code",
   "execution_count": 176,
   "metadata": {},
   "outputs": [],
   "source": [
    "matrix, df = lfr.get_csr_matrix_for_all_users(new_user)"
   ]
  },
  {
   "cell_type": "code",
   "execution_count": 177,
   "metadata": {},
   "outputs": [],
   "source": [
    "model = lfr.fit_model(matrix, epochs=10)"
   ]
  },
  {
   "cell_type": "code",
   "execution_count": 178,
   "metadata": {},
   "outputs": [
    {
     "name": "stdout",
     "output_type": "stream",
     "text": [
      "User: 76561197992623144\n",
      "Recommended Items:\n",
      "1- Total War: NAPOLEON – Definitive Edition\n",
      "2- Valheim\n",
      "3- Valiant Hearts: The Great War™ / Soldats Inconnus : Mémoires de la Grande Guerre™\n",
      "4- Age of Mythology: Extended Edition\n",
      "5- Lord of the Rings: War in the North\n",
      "\n",
      " Known Likes:\n",
      "1- V Rising\n",
      "2- Orcs Must Die! 3\n",
      "3- Sea of Thieves 2023 Edition\n",
      "4- Apex Legends™\n",
      "5- Crusader Kings III\n",
      "6- Fall Guys\n",
      "7- Cyberpunk 2077\n",
      "8- Going Medieval\n",
      "9- Among Us\n",
      "10- Back 4 Blood\n",
      "11- Age of Empires II: Definitive Edition\n",
      "12- Gloomhaven\n",
      "13- Blasphemous\n",
      "14- Disco Elysium - The Final Cut\n",
      "15- Graveyard Keeper\n",
      "16- Total War: WARHAMMER II\n",
      "17- Warhammer 40,000: Gladius - Relics of War\n",
      "18- The Banner Saga 3\n",
      "19- Wallpaper Engine\n",
      "20- Firewatch\n",
      "21- Kingdom Come: Deliverance\n",
      "22- Total War: WARHAMMER\n",
      "23- Clicker Heroes\n",
      "24- Frostpunk\n",
      "25- Tabletop Simulator\n",
      "26- This War of Mine\n",
      "27- The Banner Saga 2\n",
      "28- Mount & Blade II: Bannerlord\n",
      "29- Banished\n",
      "30- Assassin’s Creed® IV Black Flag™\n",
      "31- Papers, Please\n",
      "32- The Banner Saga\n",
      "33- Baldur's Gate: Enhanced Edition\n",
      "34- Brutal Legend\n",
      "35- Brothers - A Tale of Two Sons\n",
      "36- Ace of Spades: Battle Builder\n",
      "37- Age of Empires II (2013)\n",
      "38- Don't Starve\n",
      "39- Chivalry: Medieval Warfare\n",
      "40- Hotline Miami\n",
      "41- Total War™: ROME II - Emperor Edition\n",
      "42- Space Rangers HD: A War Apart\n",
      "43- Mark of the Ninja\n",
      "44- DARK SOULS™: Prepare To Die™ Edition\n",
      "45- Assassin’s Creed® III\n",
      "46- To the Moon\n",
      "47- Sleeping Dogs\n",
      "48- Torchlight II\n",
      "49- Realm of the Mad God Exalt\n",
      "50- L.A. Noire\n",
      "51- Terraria\n",
      "52- Sanctum\n",
      "53- The Elder Scrolls V: Skyrim\n",
      "54- Sonic Generations Collection\n",
      "55- Dungeon Defenders\n",
      "56- Mount & Blade: Warband\n",
      "57- LIMBO\n",
      "58- Magicka\n",
      "59- Call of Duty®: Modern Warfare® 3\n",
      "60- Total War: SHOGUN 2\n",
      "61- Assassin's Creed 2\n",
      "62- Poker Night at the Inventory\n",
      "63- Fallout: New Vegas\n",
      "64- Fallout 3: Game of the Year Edition\n",
      "65- The Elder Scrolls IV: Oblivion® Game of the Year Edition\n",
      "66- The Elder Scrolls III: Morrowind® Game of the Year Edition\n",
      "67- Resident Evil 5\n",
      "68- The Witcher 2: Assassins of Kings Enhanced Edition\n",
      "69- SPORE™\n",
      "70- AudioSurf\n",
      "71- Overlord II\n",
      "72- Overlord™\n",
      "73- Total War: EMPIRE – Definitive Edition\n",
      "74- Call of Duty®: Modern Warfare® 2 (2009)\n",
      "75- Call of Duty®: Modern Warfare® 2 (2009)\n",
      "76- Supreme Commander: Forged Alliance\n",
      "77- Sid Meier's Civilization® V\n",
      "78- Men of War™\n",
      "79- BioShock™\n",
      "80- Two Worlds II HD\n",
      "81- Star Wars: Battlefront 2 (Classic, 2005)\n",
      "82- Total War: MEDIEVAL II – Definitive Edition\n",
      "83- S.T.A.L.K.E.R.: Shadow of Chernobyl\n",
      "84- Killing Floor\n",
      "85- Counter-Strike: Global Offensive\n",
      "86- Left 4 Dead 2\n",
      "87- Half-Life 2: Deathmatch\n",
      "88- Day of Defeat: Source\n",
      "89- Counter-Strike: Source\n",
      "90- Half-Life 2\n"
     ]
    }
   ],
   "source": [
    "lfr.sample_recommendation_user(model, df, steamid, threshold = 0, nrec_items = 5)"
   ]
  },
  {
   "cell_type": "code",
   "execution_count": null,
   "metadata": {},
   "outputs": [],
   "source": []
  }
 ],
 "metadata": {
  "kernelspec": {
   "display_name": "steam",
   "language": "python",
   "name": "python3"
  },
  "language_info": {
   "codemirror_mode": {
    "name": "ipython",
    "version": 3
   },
   "file_extension": ".py",
   "mimetype": "text/x-python",
   "name": "python",
   "nbconvert_exporter": "python",
   "pygments_lexer": "ipython3",
   "version": "3.9.6"
  },
  "orig_nbformat": 4
 },
 "nbformat": 4,
 "nbformat_minor": 2
}
