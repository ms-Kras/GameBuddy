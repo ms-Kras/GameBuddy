{
 "cells": [
  {
   "cell_type": "code",
   "execution_count": 63,
   "metadata": {},
   "outputs": [
    {
     "name": "stdout",
     "output_type": "stream",
     "text": [
      "The autoreload extension is already loaded. To reload it, use:\n",
      "  %reload_ext autoreload\n"
     ]
    }
   ],
   "source": [
    "from lightfm_recomender import LightfmRecomender\n",
    "import os\n",
    "%load_ext autoreload\n",
    "%autoreload 2\n",
    "new_directory = '/Users/vasevooo/projects/GameBuddy'\n",
    "os.chdir(new_directory)\n",
    "import pandas as pd \n",
    "import requests\n",
    "import json\n",
    "from sklearn.preprocessing import MinMaxScaler, StandardScaler\n",
    "import numpy as np\n",
    "from lightfm import LightFM\n",
    "from scipy.sparse import csr_matrix, save_npz, load_npz"
   ]
  },
  {
   "attachments": {},
   "cell_type": "markdown",
   "metadata": {},
   "source": [
    "### обновление предобработанных данных для модели "
   ]
  },
  {
   "cell_type": "code",
   "execution_count": 181,
   "metadata": {},
   "outputs": [],
   "source": [
    "def download_file_from_drive(file_url, save_path):\n",
    "    if os.path.isfile(save_path):\n",
    "        print(f\"File '{save_path}' already exists.\")\n",
    "        return\n",
    "\n",
    "    try:\n",
    "        response = requests.get(file_url)\n",
    "        response.raise_for_status()\n",
    "    except requests.exceptions.RequestException as e:\n",
    "        print(f\"Error downloading file from '{file_url}': {str(e)}\")\n",
    "        return\n",
    "\n",
    "    with open(save_path, 'wb') as file:\n",
    "        file.write(response.content)\n",
    "    \n",
    "    print(f\"File downloaded successfully: '{save_path}'\")"
   ]
  },
  {
   "cell_type": "code",
   "execution_count": 182,
   "metadata": {},
   "outputs": [
    {
     "name": "stdout",
     "output_type": "stream",
     "text": [
      "File 'data/final_gametime_df.csv' already exists.\n"
     ]
    }
   ],
   "source": [
    "file_url = 'https://drive.google.com/file/d/1tt1DxIxKtJueQd81Wa6XibM1vDuuje9o/view?usp=sharing' ## Ссылка на гугл драйв от Вани\n",
    "save_path = 'data/final_gametime_df.csv'\n",
    "download_file_from_drive(file_url, save_path)"
   ]
  },
  {
   "cell_type": "code",
   "execution_count": 159,
   "metadata": {},
   "outputs": [
    {
     "data": {
      "text/html": [
       "<div>\n",
       "<style scoped>\n",
       "    .dataframe tbody tr th:only-of-type {\n",
       "        vertical-align: middle;\n",
       "    }\n",
       "\n",
       "    .dataframe tbody tr th {\n",
       "        vertical-align: top;\n",
       "    }\n",
       "\n",
       "    .dataframe thead th {\n",
       "        text-align: right;\n",
       "    }\n",
       "</style>\n",
       "<table border=\"1\" class=\"dataframe\">\n",
       "  <thead>\n",
       "    <tr style=\"text-align: right;\">\n",
       "      <th></th>\n",
       "      <th>user_id</th>\n",
       "      <th>game_id</th>\n",
       "      <th>ranking</th>\n",
       "    </tr>\n",
       "  </thead>\n",
       "  <tbody>\n",
       "    <tr>\n",
       "      <th>0</th>\n",
       "      <td>76561198256283584</td>\n",
       "      <td>10</td>\n",
       "      <td>0</td>\n",
       "    </tr>\n",
       "    <tr>\n",
       "      <th>1</th>\n",
       "      <td>76561198256283584</td>\n",
       "      <td>20</td>\n",
       "      <td>0</td>\n",
       "    </tr>\n",
       "  </tbody>\n",
       "</table>\n",
       "</div>"
      ],
      "text/plain": [
       "             user_id  game_id  ranking\n",
       "0  76561198256283584       10        0\n",
       "1  76561198256283584       20        0"
      ]
     },
     "execution_count": 159,
     "metadata": {},
     "output_type": "execute_result"
    }
   ],
   "source": [
    "ru_ids = pd.read_csv('data/final_gametime_df.csv')\n",
    "transformed_data = []\n",
    "\n",
    "for index, row in ru_ids.iterrows():\n",
    "    user_id = row[-1]  \n",
    "    \n",
    "    for game_ids, ranking in row.items():\n",
    "        if game_ids != 'steamid':\n",
    "\n",
    "            transformed_data.append([user_id, game_ids, ranking])\n",
    "\n",
    "transformed_df = pd.DataFrame(transformed_data, columns=['user_id', 'game_id', 'ranking']).astype(int)\n",
    "transformed_df.head(2)"
   ]
  },
  {
   "cell_type": "code",
   "execution_count": 160,
   "metadata": {},
   "outputs": [],
   "source": [
    "scaler = MinMaxScaler(feature_range=(0, 100))\n",
    "\n",
    "transformed_df['ranking'] = transformed_df.groupby('game_id')['ranking'].transform(lambda x: scaler.fit_transform(x.values.reshape(-1, 1)).flatten())\n",
    "transformed_df['ranking'] = pd.to_numeric(transformed_df['ranking'])"
   ]
  },
  {
   "cell_type": "code",
   "execution_count": 161,
   "metadata": {},
   "outputs": [],
   "source": [
    "## сохранение df по юзерам для дальнейшего использования\n",
    "\n",
    "transformed_df.to_csv('data/for_models/users_games_df.csv', index=False)"
   ]
  },
  {
   "cell_type": "code",
   "execution_count": null,
   "metadata": {},
   "outputs": [],
   "source": []
  },
  {
   "cell_type": "code",
   "execution_count": 162,
   "metadata": {},
   "outputs": [],
   "source": [
    "games = pd.read_csv('data/game_info_with_scores.csv')\n",
    "item_dict ={}\n",
    "games = games[['appid', 'Name']].sort_values('appid').reset_index()\n",
    "games['appid'] = games['appid'].astype(int)\n",
    "\n",
    "for i in range(games.shape[0]):\n",
    "    item_dict[int(games.loc[i,'appid'])] = games.loc[i,'Name']"
   ]
  },
  {
   "cell_type": "code",
   "execution_count": 163,
   "metadata": {},
   "outputs": [],
   "source": [
    "## сохранение словаря по играм для дальнейшего использования\n",
    "\n",
    "with open(\"data/for_models/item_dict.json\", \"w\") as outfile:\n",
    "    json.dump(item_dict, outfile, indent=4)"
   ]
  },
  {
   "cell_type": "markdown",
   "metadata": {},
   "source": [
    "### Тест класса LigthFM Recomender"
   ]
  },
  {
   "cell_type": "code",
   "execution_count": 173,
   "metadata": {},
   "outputs": [],
   "source": [
    "item_dict_path = 'data/for_models/item_dict.json'\n",
    "users_games_df_path = 'data/for_models/users_games_df.csv'\n",
    "\n",
    "lfr = LightfmRecomender(users_games_df_path, item_dict_path)"
   ]
  },
  {
   "cell_type": "code",
   "execution_count": 184,
   "metadata": {},
   "outputs": [],
   "source": [
    "steamid = 76561198156258305"
   ]
  },
  {
   "cell_type": "code",
   "execution_count": 185,
   "metadata": {},
   "outputs": [],
   "source": [
    "new_user = lfr.get_user_games(steamid)"
   ]
  },
  {
   "cell_type": "code",
   "execution_count": 186,
   "metadata": {},
   "outputs": [],
   "source": [
    "matrix, df = lfr.get_csr_matrix_for_all_users(new_user)"
   ]
  },
  {
   "cell_type": "code",
   "execution_count": 187,
   "metadata": {},
   "outputs": [],
   "source": [
    "model = lfr.fit_model(matrix, epochs=100)"
   ]
  },
  {
   "cell_type": "code",
   "execution_count": 189,
   "metadata": {},
   "outputs": [
    {
     "name": "stdout",
     "output_type": "stream",
     "text": [
      "User: 76561198156258305\n",
      "Recommended Items:\n",
      "1- Battlerite\n",
      "2- Hades\n",
      "3- Halo Infinite\n",
      "4- Albion Online\n",
      "5- Magicka\n",
      "6- Soulstone Survivors\n",
      "7- Northgard\n",
      "8- STAR WARS™: The Old Republic™\n",
      "9- DARK SOULS™ III\n",
      "10- Last Epoch\n",
      "\n",
      " Known Likes:\n",
      "1- Torchlight: Infinite\n",
      "2- EA SPORTS™ FIFA 23\n",
      "3- Vampire Survivors\n",
      "4- V Rising\n",
      "5- God of War\n",
      "6- The Callisto Protocol™\n",
      "7- Forza Horizon 4\n",
      "8- ELDEN RING\n",
      "9- Gunfire Reborn\n",
      "10- Potion Craft: Alchemist Simulator\n",
      "11- Gears Tactics\n",
      "12- Sea of Thieves 2023 Edition\n",
      "13- Apex Legends™\n",
      "14- Total War: WARHAMMER III\n",
      "15- Curse of the Dead Gods\n",
      "16- Cyberpunk 2077\n",
      "17- Destiny 2\n",
      "18- Ori and the Will of the Wisps\n",
      "19- Dota Underlords\n",
      "20- Mortal Kombat 11\n",
      "21- Among Us\n",
      "22- Back 4 Blood\n",
      "23- Age of Empires II: Definitive Edition\n",
      "24- DOOM Eternal\n",
      "25- Gloomhaven\n",
      "26- Ring of Elysium\n",
      "27- UnderMine\n",
      "28- Slay the Spire\n",
      "29- Disco Elysium - The Final Cut\n",
      "30- Quake Champions\n",
      "31- Realm Grinder\n",
      "32- Graveyard Keeper\n",
      "33- Hunt: Showdown\n",
      "34- Dead Cells\n",
      "35- PUBG: BATTLEGROUNDS\n",
      "36- Alien Swarm: Reactive Drop\n",
      "37- Warhammer: Vermintide 2\n",
      "38- Deep Rock Galactic\n",
      "39- Warhammer 40,000: Inquisitor - Martyr\n",
      "40- GTFO\n",
      "41- The Elder Scrolls V: Skyrim Special Edition\n",
      "42- Minion Masters\n",
      "43- Human: Fall Flat\n",
      "44- Beholder\n",
      "45- Titan Quest Anniversary Edition\n",
      "46- Paladins®\n",
      "47- Divinity: Original Sin 2 - Definitive Edition\n",
      "48- Factorio\n",
      "49- Shadow Tactics: Blades of the Shogun\n",
      "50- Stardew Valley\n",
      "51- BioShock™ 2 Remastered\n",
      "52- BioShock™ Remastered\n",
      "53- Dishonored 2\n",
      "54- Punch Club\n",
      "55- SMITE®\n",
      "56- Crossout\n",
      "57- DOOM\n",
      "58- Fallout 4\n",
      "59- Divinity: Original Sin - Enhanced Edition\n",
      "60- Black Mesa\n",
      "61- Middle-earth™: Shadow of War™\n",
      "62- AdVenture Capitalist\n",
      "63- Besiege\n",
      "64- Jotun: Valhalla Edition\n",
      "65- Magic Duels\n",
      "66- The Elder Scrolls® Online\n",
      "67- The Long Dark\n",
      "68- FOR HONOR™\n",
      "69- Robocraft\n",
      "70- The Witcher® 3: Wild Hunt\n",
      "71- Tabletop Simulator\n",
      "72- This War of Mine\n",
      "73- Stellaris\n",
      "74- A Story About My Uncle\n",
      "75- Hotline Miami 2: Wrong Number\n",
      "76- Hero Siege\n",
      "77- XCOM® 2\n",
      "78- Rocket League®\n",
      "79- Rust\n",
      "80- The Binding of Isaac: Rebirth\n",
      "81- How to Survive\n",
      "82- Risk of Rain\n",
      "83- Styx: Master of Shadows\n",
      "84- Thief\n",
      "85- Path of Exile\n",
      "86- Magicka 2\n",
      "87- Transistor\n",
      "88- War Thunder\n",
      "89- Prison Architect\n",
      "90- Warframe\n",
      "91- Divinity: Original Sin (Classic)\n",
      "92- Grim Dawn\n",
      "93- Chivalry: Medieval Warfare\n",
      "94- Hotline Miami\n",
      "95- PAYDAY 2\n",
      "96- The Incredible Adventures of Van Helsing\n",
      "97- Space Rangers HD: A War Apart\n",
      "98- Deponia\n",
      "99- Star Conflict\n",
      "100- STAR WARS™ Knights of the Old Republic™ II - The Sith Lords™\n",
      "101- Call of Juarez: Gunslinger\n",
      "102- Wolfenstein: The New Order\n",
      "103- Torchlight II\n",
      "104- Neverwinter\n",
      "105- Alan Wake\n",
      "106- Dungeon Defenders\n",
      "107- Warhammer 40,000: Space Marine - Anniversary Edition\n",
      "108- Borderlands 2\n",
      "109- Supreme Commander 2\n",
      "110- Gothic® 3\n",
      "111- Alien Shooter\n",
      "112- STAR WARS™ Empire at War - Gold Pack\n",
      "113- STAR WARS™ Knights of the Old Republic™\n",
      "114- Fallout: New Vegas\n",
      "115- Dragon Age: Origins\n",
      "116- Oddworld: Abe's Oddysee®\n",
      "117- Supreme Commander: Forged Alliance\n",
      "118- Sid Meier's Civilization® V\n",
      "119- BioShock Infinite\n",
      "120- EVE Online\n",
      "121- BioShock™\n",
      "122- Star Wars: Battlefront 2 (Classic, 2005)\n",
      "123- STAR WARS™ Jedi Knight - Jedi Academy™\n",
      "124- STAR WARS™ Republic Commando™\n",
      "125- Counter-Strike: Global Offensive\n",
      "126- Left 4 Dead 2\n"
     ]
    }
   ],
   "source": [
    "lfr.sample_recommendation_user(model, df, steamid, threshold = 0, nrec_items = 10)"
   ]
  }
 ],
 "metadata": {
  "kernelspec": {
   "display_name": "steam",
   "language": "python",
   "name": "python3"
  },
  "language_info": {
   "codemirror_mode": {
    "name": "ipython",
    "version": 3
   },
   "file_extension": ".py",
   "mimetype": "text/x-python",
   "name": "python",
   "nbconvert_exporter": "python",
   "pygments_lexer": "ipython3",
   "version": "3.9.6"
  },
  "orig_nbformat": 4
 },
 "nbformat": 4,
 "nbformat_minor": 2
}
