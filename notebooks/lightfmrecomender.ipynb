{
 "cells": [
  {
   "cell_type": "code",
   "execution_count": 1,
   "metadata": {},
   "outputs": [
    {
     "name": "stderr",
     "output_type": "stream",
     "text": [
      "/Users/vasevooo/projects/GameBuddy/steam/lib/python3.9/site-packages/urllib3/__init__.py:34: NotOpenSSLWarning: urllib3 v2.0 only supports OpenSSL 1.1.1+, currently the 'ssl' module is compiled with 'LibreSSL 2.8.3'. See: https://github.com/urllib3/urllib3/issues/3020\n",
      "  warnings.warn(\n",
      "/Users/vasevooo/projects/GameBuddy/steam/lib/python3.9/site-packages/lightfm/_lightfm_fast.py:9: UserWarning: LightFM was compiled without OpenMP support. Only a single thread will be used.\n",
      "  warnings.warn(\n"
     ]
    }
   ],
   "source": [
    "from lightfm_recomender import LightfmRecomender\n",
    "import os\n",
    "%load_ext autoreload\n",
    "%autoreload 2\n",
    "new_directory = '/Users/vasevooo/projects/GameBuddy'\n",
    "os.chdir(new_directory)\n",
    "import pandas as pd \n",
    "import requests\n",
    "import json\n",
    "from sklearn.preprocessing import MinMaxScaler, StandardScaler\n",
    "import numpy as np\n",
    "from lightfm import LightFM\n",
    "from scipy.sparse import csr_matrix, save_npz, load_npz\n",
    "import re\n",
    "from bs4 import BeautifulSoup"
   ]
  },
  {
   "attachments": {},
   "cell_type": "markdown",
   "metadata": {},
   "source": [
    "### обновление предобработанных данных для модели "
   ]
  },
  {
   "cell_type": "code",
   "execution_count": 7,
   "metadata": {},
   "outputs": [],
   "source": [
    "games = pd.read_csv('data/game_info_with_scores.csv')\n",
    "item_dict ={}\n",
    "games = games[['appid', 'Name']].sort_values('appid').reset_index()\n",
    "games['appid'] = games['appid'].astype(int)\n",
    "\n",
    "for i in range(games.shape[0]):\n",
    "    item_dict[int(games.loc[i,'appid'])] = games.loc[i,'Name']"
   ]
  },
  {
   "cell_type": "code",
   "execution_count": 8,
   "metadata": {},
   "outputs": [],
   "source": [
    "## сохранение словаря по играм для дальнейшего использования\n",
    "\n",
    "with open(\"data/for_models/item_dict.json\", \"w\") as outfile:\n",
    "    json.dump(item_dict, outfile, indent=4)"
   ]
  },
  {
   "cell_type": "markdown",
   "metadata": {},
   "source": [
    "### Тест класса LigthFM Recomender"
   ]
  },
  {
   "cell_type": "code",
   "execution_count": 2,
   "metadata": {},
   "outputs": [],
   "source": [
    "item_dict_path = 'data/for_models/item_dict.json'\n",
    "gametime_df_path = 'data/final_gametime_df.csv'\n",
    "\n",
    "lfr = LightfmRecomender(gametime_df_path, item_dict_path)"
   ]
  },
  {
   "cell_type": "code",
   "execution_count": 25,
   "metadata": {},
   "outputs": [],
   "source": [
    "steam_url = 'https://steamcommunity.com/id/momuss/'"
   ]
  },
  {
   "cell_type": "code",
   "execution_count": 31,
   "metadata": {},
   "outputs": [],
   "source": [
    "new_user, steamid = lfr.get_user_games(steam_url)"
   ]
  },
  {
   "cell_type": "code",
   "execution_count": 32,
   "metadata": {},
   "outputs": [],
   "source": [
    "matrix, df = lfr.get_csr_matrix_for_all_users(new_user)"
   ]
  },
  {
   "cell_type": "code",
   "execution_count": 33,
   "metadata": {},
   "outputs": [],
   "source": [
    "## в приложении поставить 100 эпох. 1 для теста\n",
    "\n",
    "model = lfr.fit_model(matrix, epochs=1)"
   ]
  },
  {
   "cell_type": "code",
   "execution_count": 34,
   "metadata": {},
   "outputs": [
    {
     "name": "stdout",
     "output_type": "stream",
     "text": [
      "User: 76561197994384567\n",
      "Recommended Items:\n",
      "1- PAYDAY 2\n",
      "2- Portal 2\n",
      "3- The Witcher® 3: Wild Hunt\n",
      "4- Terraria\n",
      "5- Half-Life 2\n",
      "6- Garry's Mod\n",
      "7- The Elder Scrolls V: Skyrim\n",
      "8- Dying Light\n",
      "9- Tomb Raider\n",
      "10- Don't Starve Together\n",
      "\n",
      " Known Likes:\n",
      "1- Sea of Thieves 2023 Edition\n",
      "2- Dota Underlords\n",
      "3- Tropico 6\n",
      "4- Human: Fall Flat\n",
      "5- PAYDAY™ The Heist\n",
      "6- Warhammer® 40,000: Dawn of War® II Chaos Rising\n",
      "7- Command & Conquer: Red Alert 3\n",
      "8- Call of Duty®: Modern Warfare® 2 (2009)\n",
      "9- Call of Duty®: Modern Warfare® 2 (2009)\n",
      "10- Supreme Commander: Forged Alliance\n",
      "11- Sid Meier's Civilization® V\n",
      "12- Warhammer® 40,000: Dawn of War® - Game of the Year Edition\n",
      "13- Killing Floor\n",
      "14- Counter-Strike: Global Offensive\n",
      "15- Left 4 Dead 2\n",
      "16- Left 4 Dead\n",
      "17- Counter-Strike: Source\n",
      "18- Counter-Strike\n"
     ]
    }
   ],
   "source": [
    "lfr.sample_recommendation_user(model, df, steamid, threshold = 0, nrec_items = 10)"
   ]
  },
  {
   "attachments": {},
   "cell_type": "markdown",
   "metadata": {},
   "source": [
    "### cold start"
   ]
  },
  {
   "cell_type": "code",
   "execution_count": 23,
   "metadata": {},
   "outputs": [],
   "source": [
    "df_cold_start = pd.DataFrame({'game_names': ['Counter-Strike', 'Team Fortress Classic', \n",
    "                                             'Day of Defeat', \n",
    "                                             'Half-Life: Source', 'Half-Life: Opposing Force'],\n",
    "                   'rankings': [5, 5, 8, 7, 3]})"
   ]
  },
  {
   "cell_type": "code",
   "execution_count": 24,
   "metadata": {},
   "outputs": [
    {
     "data": {
      "text/html": [
       "<div>\n",
       "<style scoped>\n",
       "    .dataframe tbody tr th:only-of-type {\n",
       "        vertical-align: middle;\n",
       "    }\n",
       "\n",
       "    .dataframe tbody tr th {\n",
       "        vertical-align: top;\n",
       "    }\n",
       "\n",
       "    .dataframe thead th {\n",
       "        text-align: right;\n",
       "    }\n",
       "</style>\n",
       "<table border=\"1\" class=\"dataframe\">\n",
       "  <thead>\n",
       "    <tr style=\"text-align: right;\">\n",
       "      <th></th>\n",
       "      <th>game_names</th>\n",
       "      <th>rankings</th>\n",
       "    </tr>\n",
       "  </thead>\n",
       "  <tbody>\n",
       "    <tr>\n",
       "      <th>0</th>\n",
       "      <td>Counter-Strike</td>\n",
       "      <td>5</td>\n",
       "    </tr>\n",
       "    <tr>\n",
       "      <th>1</th>\n",
       "      <td>Team Fortress Classic</td>\n",
       "      <td>5</td>\n",
       "    </tr>\n",
       "  </tbody>\n",
       "</table>\n",
       "</div>"
      ],
      "text/plain": [
       "              game_names  rankings\n",
       "0         Counter-Strike         5\n",
       "1  Team Fortress Classic         5"
      ]
     },
     "execution_count": 24,
     "metadata": {},
     "output_type": "execute_result"
    }
   ],
   "source": [
    "df_cold_start.head(2)"
   ]
  },
  {
   "cell_type": "code",
   "execution_count": 35,
   "metadata": {},
   "outputs": [],
   "source": [
    "cold_start_user, steamid_cold = lfr.get_user_games_cold_start(df_cold_start)"
   ]
  },
  {
   "cell_type": "code",
   "execution_count": 36,
   "metadata": {},
   "outputs": [],
   "source": [
    "matrix_cs, df_cs = lfr.get_csr_matrix_for_all_users(cold_start_user)"
   ]
  },
  {
   "cell_type": "code",
   "execution_count": 20,
   "metadata": {},
   "outputs": [],
   "source": [
    "## в приложении поставить 100 эпох. 1 для теста\n",
    "model = lfr.fit_model(matrix_cs, epochs=1)"
   ]
  },
  {
   "cell_type": "code",
   "execution_count": 38,
   "metadata": {},
   "outputs": [
    {
     "name": "stdout",
     "output_type": "stream",
     "text": [
      "User: 1234567891010102930\n",
      "Recommended Items:\n",
      "1- Counter-Strike: Global Offensive\n",
      "2- Left 4 Dead 2\n",
      "3- PAYDAY 2\n",
      "4- Portal 2\n",
      "5- The Witcher® 3: Wild Hunt\n",
      "6- Terraria\n",
      "7- Half-Life 2\n",
      "8- Garry's Mod\n",
      "9- The Elder Scrolls V: Skyrim\n",
      "10- Dying Light\n",
      "\n",
      " Known Likes:\n",
      "1- Half-Life: Source\n",
      "2- Day of Defeat\n",
      "3- Team Fortress Classic\n",
      "4- Counter-Strike\n"
     ]
    }
   ],
   "source": [
    "lfr.sample_recommendation_user(model, df_cs, steamid_cold, threshold = 0, nrec_items = 10)"
   ]
  }
 ],
 "metadata": {
  "kernelspec": {
   "display_name": "steam",
   "language": "python",
   "name": "python3"
  },
  "language_info": {
   "codemirror_mode": {
    "name": "ipython",
    "version": 3
   },
   "file_extension": ".py",
   "mimetype": "text/x-python",
   "name": "python",
   "nbconvert_exporter": "python",
   "pygments_lexer": "ipython3",
   "version": "3.9.6"
  },
  "orig_nbformat": 4
 },
 "nbformat": 4,
 "nbformat_minor": 2
}
