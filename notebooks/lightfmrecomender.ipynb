{
 "cells": [
  {
   "cell_type": "code",
   "execution_count": 1,
   "metadata": {},
   "outputs": [
    {
     "name": "stderr",
     "output_type": "stream",
     "text": [
      "/Users/vasevooo/projects/GameBuddy/steam/lib/python3.9/site-packages/urllib3/__init__.py:34: NotOpenSSLWarning: urllib3 v2.0 only supports OpenSSL 1.1.1+, currently the 'ssl' module is compiled with 'LibreSSL 2.8.3'. See: https://github.com/urllib3/urllib3/issues/3020\n",
      "  warnings.warn(\n",
      "/Users/vasevooo/projects/GameBuddy/steam/lib/python3.9/site-packages/lightfm/_lightfm_fast.py:9: UserWarning: LightFM was compiled without OpenMP support. Only a single thread will be used.\n",
      "  warnings.warn(\n"
     ]
    }
   ],
   "source": [
    "from lightfm_recomender import LightfmRecomender\n",
    "import os\n",
    "%load_ext autoreload\n",
    "%autoreload 2\n",
    "new_directory = '/Users/vasevooo/projects/GameBuddy'\n",
    "os.chdir(new_directory)\n",
    "import pandas as pd \n",
    "import requests\n",
    "import json\n",
    "from sklearn.preprocessing import MinMaxScaler, StandardScaler\n",
    "import numpy as np\n",
    "from lightfm import LightFM\n",
    "from scipy.sparse import csr_matrix, save_npz, load_npz\n",
    "import re\n",
    "from bs4 import BeautifulSoup"
   ]
  },
  {
   "attachments": {},
   "cell_type": "markdown",
   "metadata": {},
   "source": [
    "### обновление предобработанных данных для модели "
   ]
  },
  {
   "cell_type": "code",
   "execution_count": 7,
   "metadata": {},
   "outputs": [],
   "source": [
    "games = pd.read_csv('data/game_info_with_scores.csv')\n",
    "item_dict ={}\n",
    "games = games[['appid', 'Name']].sort_values('appid').reset_index()\n",
    "games['appid'] = games['appid'].astype(int)\n",
    "\n",
    "for i in range(games.shape[0]):\n",
    "    item_dict[int(games.loc[i,'appid'])] = games.loc[i,'Name']"
   ]
  },
  {
   "cell_type": "code",
   "execution_count": 8,
   "metadata": {},
   "outputs": [],
   "source": [
    "## сохранение словаря по играм для дальнейшего использования\n",
    "\n",
    "with open(\"data/for_models/item_dict.json\", \"w\") as outfile:\n",
    "    json.dump(item_dict, outfile, indent=4)"
   ]
  },
  {
   "cell_type": "markdown",
   "metadata": {},
   "source": [
    "### Тест класса LigthFM Recomender"
   ]
  },
  {
   "cell_type": "code",
   "execution_count": 2,
   "metadata": {},
   "outputs": [],
   "source": [
    "item_dict_path = 'data/for_models/item_dict.json'\n",
    "gametime_df_path = 'data/final_gametime_df.csv'\n",
    "\n",
    "lfr = LightfmRecomender(gametime_df_path, item_dict_path)"
   ]
  },
  {
   "cell_type": "code",
   "execution_count": 11,
   "metadata": {},
   "outputs": [],
   "source": [
    "steam_url = 'https://steamcommunity.com/id/AVROORA'\n",
    "steamid = 76561198156258305"
   ]
  },
  {
   "cell_type": "code",
   "execution_count": 13,
   "metadata": {},
   "outputs": [],
   "source": [
    "new_user = lfr.get_user_games(steam_url)"
   ]
  },
  {
   "cell_type": "code",
   "execution_count": 14,
   "metadata": {},
   "outputs": [],
   "source": [
    "matrix, df = lfr.get_csr_matrix_for_all_users(new_user)"
   ]
  },
  {
   "cell_type": "code",
   "execution_count": 15,
   "metadata": {},
   "outputs": [],
   "source": [
    "## в приложении поставить 100 эпох. 1 для теста\n",
    "\n",
    "model = lfr.fit_model(matrix, epochs=1)"
   ]
  },
  {
   "cell_type": "code",
   "execution_count": 7,
   "metadata": {},
   "outputs": [
    {
     "name": "stdout",
     "output_type": "stream",
     "text": [
      "User: 76561198156258305\n",
      "Recommended Items:\n",
      "1- Portal 2\n",
      "2- Terraria\n",
      "3- Don't Starve Together\n",
      "4- The Elder Scrolls V: Skyrim\n",
      "5- Dying Light\n",
      "6- Half-Life 2\n",
      "7- The Witcher 2: Assassins of Kings Enhanced Edition\n",
      "8- Garry's Mod\n",
      "9- Tomb Raider\n",
      "10- Darkest Dungeon®\n",
      "\n",
      " Known Likes:\n",
      "1- Torchlight: Infinite\n",
      "2- EA SPORTS™ FIFA 23\n",
      "3- Vampire Survivors\n",
      "4- V Rising\n",
      "5- God of War\n",
      "6- The Callisto Protocol™\n",
      "7- Forza Horizon 4\n",
      "8- ELDEN RING\n",
      "9- Gunfire Reborn\n",
      "10- Potion Craft: Alchemist Simulator\n",
      "11- Gears Tactics\n",
      "12- Sea of Thieves 2023 Edition\n",
      "13- Apex Legends™\n",
      "14- Total War: WARHAMMER III\n",
      "15- Curse of the Dead Gods\n",
      "16- Cyberpunk 2077\n",
      "17- Destiny 2\n",
      "18- Ori and the Will of the Wisps\n",
      "19- Dota Underlords\n",
      "20- Mortal Kombat 11\n",
      "21- Among Us\n",
      "22- Back 4 Blood\n",
      "23- Age of Empires II: Definitive Edition\n",
      "24- DOOM Eternal\n",
      "25- Gloomhaven\n",
      "26- Ring of Elysium\n",
      "27- UnderMine\n",
      "28- Slay the Spire\n",
      "29- Disco Elysium - The Final Cut\n",
      "30- Quake Champions\n",
      "31- Realm Grinder\n",
      "32- Graveyard Keeper\n",
      "33- Hunt: Showdown\n",
      "34- Dead Cells\n",
      "35- PUBG: BATTLEGROUNDS\n",
      "36- Alien Swarm: Reactive Drop\n",
      "37- Warhammer: Vermintide 2\n",
      "38- Deep Rock Galactic\n",
      "39- Warhammer 40,000: Inquisitor - Martyr\n",
      "40- GTFO\n",
      "41- The Elder Scrolls V: Skyrim Special Edition\n",
      "42- Minion Masters\n",
      "43- Human: Fall Flat\n",
      "44- Beholder\n",
      "45- Titan Quest Anniversary Edition\n",
      "46- Paladins®\n",
      "47- Divinity: Original Sin 2 - Definitive Edition\n",
      "48- Factorio\n",
      "49- Shadow Tactics: Blades of the Shogun\n",
      "50- Stardew Valley\n",
      "51- BioShock™ 2 Remastered\n",
      "52- BioShock™ Remastered\n",
      "53- Dishonored 2\n",
      "54- Punch Club\n",
      "55- SMITE®\n",
      "56- Crossout\n",
      "57- DOOM\n",
      "58- Fallout 4\n",
      "59- Divinity: Original Sin - Enhanced Edition\n",
      "60- Black Mesa\n",
      "61- Middle-earth™: Shadow of War™\n",
      "62- AdVenture Capitalist\n",
      "63- Besiege\n",
      "64- Jotun: Valhalla Edition\n",
      "65- Magic Duels\n",
      "66- The Elder Scrolls® Online\n",
      "67- The Long Dark\n",
      "68- FOR HONOR™\n",
      "69- Robocraft\n",
      "70- The Witcher® 3: Wild Hunt\n",
      "71- Tabletop Simulator\n",
      "72- This War of Mine\n",
      "73- Stellaris\n",
      "74- A Story About My Uncle\n",
      "75- Hotline Miami 2: Wrong Number\n",
      "76- Hero Siege\n",
      "77- XCOM® 2\n",
      "78- Rocket League®\n",
      "79- Rust\n",
      "80- The Binding of Isaac: Rebirth\n",
      "81- How to Survive\n",
      "82- Risk of Rain\n",
      "83- Styx: Master of Shadows\n",
      "84- Thief\n",
      "85- Path of Exile\n",
      "86- Magicka 2\n",
      "87- Transistor\n",
      "88- War Thunder\n",
      "89- Prison Architect\n",
      "90- Warframe\n",
      "91- Divinity: Original Sin (Classic)\n",
      "92- Grim Dawn\n",
      "93- Chivalry: Medieval Warfare\n",
      "94- Hotline Miami\n",
      "95- PAYDAY 2\n",
      "96- The Incredible Adventures of Van Helsing\n",
      "97- Space Rangers HD: A War Apart\n",
      "98- Deponia\n",
      "99- Star Conflict\n",
      "100- Call of Juarez: Gunslinger\n",
      "101- Wolfenstein: The New Order\n",
      "102- Torchlight II\n",
      "103- Neverwinter\n",
      "104- Alan Wake\n",
      "105- Dungeon Defenders\n",
      "106- Warhammer 40,000: Space Marine - Anniversary Edition\n",
      "107- Borderlands 2\n",
      "108- Supreme Commander 2\n",
      "109- Gothic® 3\n",
      "110- Alien Shooter\n",
      "111- STAR WARS™ Empire at War - Gold Pack\n",
      "112- STAR WARS™ Knights of the Old Republic™\n",
      "113- Fallout: New Vegas\n",
      "114- Dragon Age: Origins\n",
      "115- Oddworld: Abe's Oddysee®\n",
      "116- Supreme Commander: Forged Alliance\n",
      "117- Sid Meier's Civilization® V\n",
      "118- BioShock Infinite\n",
      "119- EVE Online\n",
      "120- BioShock™\n",
      "121- Star Wars: Battlefront 2 (Classic, 2005)\n",
      "122- STAR WARS™ Jedi Knight - Jedi Academy™\n",
      "123- STAR WARS™ Republic Commando™\n",
      "124- Counter-Strike: Global Offensive\n",
      "125- Left 4 Dead 2\n"
     ]
    }
   ],
   "source": [
    "lfr.sample_recommendation_user(model, df, steamid, threshold = 0, nrec_items = 10)"
   ]
  },
  {
   "attachments": {},
   "cell_type": "markdown",
   "metadata": {},
   "source": [
    "### cold start"
   ]
  },
  {
   "cell_type": "code",
   "execution_count": 16,
   "metadata": {},
   "outputs": [],
   "source": [
    "df_cold_start = pd.DataFrame({'game_names': ['Counter-Strike', 'Team Fortress Classic', \n",
    "                                             'Day of Defeat', \n",
    "                                             'Half-Life: Source', 'Half-Life: Opposing Force'],\n",
    "                   'rankings': [5, 5, 8, 7, 3]})"
   ]
  },
  {
   "cell_type": "code",
   "execution_count": 17,
   "metadata": {},
   "outputs": [],
   "source": [
    "cold_start_user = lfr.get_user_games_cold_start(df_cold_start)"
   ]
  },
  {
   "cell_type": "code",
   "execution_count": 19,
   "metadata": {},
   "outputs": [],
   "source": [
    "matrix_cs, df_cs = lfr.get_csr_matrix_for_all_users(cold_start_user)"
   ]
  },
  {
   "cell_type": "code",
   "execution_count": 20,
   "metadata": {},
   "outputs": [],
   "source": [
    "## в приложении поставить 100 эпох. 1 для теста\n",
    "model = lfr.fit_model(matrix_cs, epochs=1)"
   ]
  },
  {
   "cell_type": "code",
   "execution_count": 21,
   "metadata": {},
   "outputs": [
    {
     "name": "stdout",
     "output_type": "stream",
     "text": [
      "User: 1234567891010102930\n",
      "Recommended Items:\n",
      "1- Counter-Strike: Global Offensive\n",
      "2- Left 4 Dead 2\n",
      "3- PAYDAY 2\n",
      "4- Portal 2\n",
      "5- Terraria\n",
      "6- The Witcher® 3: Wild Hunt\n",
      "7- Garry's Mod\n",
      "8- Half-Life 2\n",
      "9- Don't Starve Together\n",
      "10- Tomb Raider\n",
      "\n",
      " Known Likes:\n",
      "1- Half-Life: Source\n",
      "2- Day of Defeat\n",
      "3- Team Fortress Classic\n",
      "4- Counter-Strike\n"
     ]
    }
   ],
   "source": [
    "steamid_cold = 1234567891010102930 ## хардкод в скрипте\n",
    "lfr.sample_recommendation_user(model, df_cs, steamid_cold, threshold = 0, nrec_items = 10)"
   ]
  }
 ],
 "metadata": {
  "kernelspec": {
   "display_name": "steam",
   "language": "python",
   "name": "python3"
  },
  "language_info": {
   "codemirror_mode": {
    "name": "ipython",
    "version": 3
   },
   "file_extension": ".py",
   "mimetype": "text/x-python",
   "name": "python",
   "nbconvert_exporter": "python",
   "pygments_lexer": "ipython3",
   "version": "3.9.6"
  },
  "orig_nbformat": 4
 },
 "nbformat": 4,
 "nbformat_minor": 2
}
