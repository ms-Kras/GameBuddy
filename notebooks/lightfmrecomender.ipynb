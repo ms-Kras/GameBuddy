{
 "cells": [
  {
   "cell_type": "code",
   "execution_count": 1,
   "metadata": {},
   "outputs": [
    {
     "name": "stderr",
     "output_type": "stream",
     "text": [
      "/Users/vasevooo/projects/GameBuddy/steam/lib/python3.9/site-packages/urllib3/__init__.py:34: NotOpenSSLWarning: urllib3 v2.0 only supports OpenSSL 1.1.1+, currently the 'ssl' module is compiled with 'LibreSSL 2.8.3'. See: https://github.com/urllib3/urllib3/issues/3020\n",
      "  warnings.warn(\n",
      "/Users/vasevooo/projects/GameBuddy/steam/lib/python3.9/site-packages/lightfm/_lightfm_fast.py:9: UserWarning: LightFM was compiled without OpenMP support. Only a single thread will be used.\n",
      "  warnings.warn(\n"
     ]
    }
   ],
   "source": [
    "from lightfm_recomender import LightfmRecomender\n",
    "import os\n",
    "%load_ext autoreload\n",
    "%autoreload 2\n",
    "new_directory = '/Users/vasevooo/projects/GameBuddy'\n",
    "os.chdir(new_directory)\n",
    "import pandas as pd \n",
    "import requests\n",
    "import json\n",
    "from sklearn.preprocessing import MinMaxScaler, StandardScaler\n",
    "import numpy as np\n",
    "from lightfm import LightFM\n",
    "from scipy.sparse import csr_matrix, save_npz, load_npz\n",
    "import re\n",
    "from bs4 import BeautifulSoup"
   ]
  },
  {
   "attachments": {},
   "cell_type": "markdown",
   "metadata": {},
   "source": [
    "### обновление предобработанных данных для модели "
   ]
  },
  {
   "cell_type": "code",
   "execution_count": 7,
   "metadata": {},
   "outputs": [],
   "source": [
    "games = pd.read_csv('data/game_info_with_scores.csv')\n",
    "item_dict ={}\n",
    "games = games[['appid', 'Name']].sort_values('appid').reset_index()\n",
    "games['appid'] = games['appid'].astype(int)\n",
    "\n",
    "for i in range(games.shape[0]):\n",
    "    item_dict[int(games.loc[i,'appid'])] = games.loc[i,'Name']"
   ]
  },
  {
   "cell_type": "code",
   "execution_count": 8,
   "metadata": {},
   "outputs": [],
   "source": [
    "## сохранение словаря по играм для дальнейшего использования\n",
    "\n",
    "with open(\"data/for_models/item_dict.json\", \"w\") as outfile:\n",
    "    json.dump(item_dict, outfile, indent=4)"
   ]
  },
  {
   "cell_type": "markdown",
   "metadata": {},
   "source": [
    "### Тест класса LigthFM Recomender"
   ]
  },
  {
   "cell_type": "code",
   "execution_count": 72,
   "metadata": {},
   "outputs": [
    {
     "name": "stderr",
     "output_type": "stream",
     "text": [
      "/Users/vasevooo/projects/GameBuddy/steam/lib/python3.9/site-packages/pandas/core/internals/blocks.py:329: RuntimeWarning: divide by zero encountered in log\n",
      "  result = func(self.values, **kwargs)\n"
     ]
    }
   ],
   "source": [
    "item_dict_path = 'data/for_models/item_dict.json'\n",
    "gametime_df_path = 'data/final_gametime_df.csv'\n",
    "\n",
    "lfr = LightfmRecomender(gametime_df_path, item_dict_path)"
   ]
  },
  {
   "cell_type": "code",
   "execution_count": 177,
   "metadata": {},
   "outputs": [],
   "source": [
    "steam_url = 'https://steamcommunity.com/profiles/76561198102706863/'\n",
    "\n",
    "# https://steamcommunity.com/profiles/76561198102706863/\n",
    "# https://steamcommunity.com/id/momuss/ - Серега\n",
    "# https://steamcommunity.com/profiles/76561197992623144 - Коля\n",
    "# https://steamcommunity.com/profiles/76561198156258305/ - Дима\n",
    "# https://steamcommunity.com/profiles/76561197991678198 - Антон"
   ]
  },
  {
   "cell_type": "code",
   "execution_count": 178,
   "metadata": {},
   "outputs": [
    {
     "data": {
      "text/plain": [
       "76561198102706863"
      ]
     },
     "execution_count": 178,
     "metadata": {},
     "output_type": "execute_result"
    }
   ],
   "source": [
    "new_user, steamid = lfr.get_user_games(steam_url)\n",
    "steamid"
   ]
  },
  {
   "cell_type": "code",
   "execution_count": 179,
   "metadata": {},
   "outputs": [],
   "source": [
    "matrix, df = lfr.get_csr_matrix_for_all_users(new_user)"
   ]
  },
  {
   "cell_type": "code",
   "execution_count": 182,
   "metadata": {},
   "outputs": [],
   "source": [
    "## в приложении поставить 100 эпох. 1 для теста\n",
    "\n",
    "model = lfr.fit_model(matrix, epochs=100)"
   ]
  },
  {
   "cell_type": "code",
   "execution_count": 184,
   "metadata": {},
   "outputs": [
    {
     "name": "stdout",
     "output_type": "stream",
     "text": [
      "User: 76561198102706863\n",
      "Recommended Items:\n",
      "1- Age of Empires IV: Anniversary Edition\n",
      "2- Slay the Spire\n",
      "3- They Are Billions\n",
      "4- Total War: WARHAMMER III\n",
      "5- Call of Duty®: Modern Warfare® 3\n",
      "6- Forts\n",
      "7- Age of Empires II: Definitive Edition\n",
      "8- Legion TD 2 - Multiplayer Tower Defense\n",
      "9- Frostpunk\n",
      "10- Dirty Bomb®\n",
      "\n",
      " Known Likes:\n",
      "1- Soulstone Survivors\n",
      "2- 20 Minutes Till Dawn\n",
      "3- Brotato\n",
      "4- Vampire Survivors\n",
      "5- V Rising\n",
      "6- Dorfromantik\n",
      "7- The Planet Crafter\n",
      "8- Loop Hero\n",
      "9- Melvor Idle\n",
      "10- eFootball PES 2021 SEASON UPDATE\n",
      "11- Rogue Legacy 2\n",
      "12- DEATHLOOP\n",
      "13- ELDEN RING\n",
      "14- Halo Infinite\n",
      "15- Gunfire Reborn\n",
      "16- Potion Craft: Alchemist Simulator\n",
      "17- Sea of Thieves 2023 Edition\n",
      "18- Teardown\n",
      "19- Crusader Kings III\n",
      "20- Gas Station Simulator\n",
      "21- Skul: The Hero Slayer\n",
      "22- Hades\n",
      "23- Medieval Dynasty\n",
      "24- HUMANKIND™\n",
      "25- Curse of the Dead Gods\n",
      "26- Fall Guys\n",
      "27- Cyberpunk 2077\n",
      "28- Destiny 2\n",
      "29- Dota Underlords\n",
      "30- Going Medieval\n",
      "31- The Ascent\n",
      "32- Halo: The Master Chief Collection\n",
      "33- Mortal Kombat 11\n",
      "34- Among Us\n",
      "35- Far Cry® New Dawn\n",
      "36- Back 4 Blood\n",
      "37- Valheim\n",
      "38- CRSED: F.O.A.D.\n",
      "39- Noita\n",
      "40- Songs of Conquest\n",
      "41- HITMAN™ 2\n",
      "42- Imperator: Rome\n",
      "43- Tribes of Midgard\n",
      "44- Sekiro™: Shadows Die Twice - GOTY Edition\n",
      "45- Realm Royale Reforged\n",
      "46- DOOM Eternal\n",
      "47- Albion Online\n",
      "48- Wasteland 3\n",
      "49- Age of Wonders: Planetfall\n",
      "50- Thief Simulator\n",
      "51- World War Z\n",
      "52- Foundation\n",
      "53- Hell Let Loose\n",
      "54- Raft\n",
      "55- The Escapists 2\n",
      "56- Risk of Rain 2\n",
      "57- MORDHAU\n",
      "58- Soundpad\n",
      "59- Remnant: From the Ashes\n",
      "60- Quake Champions\n",
      "61- Realm Grinder\n",
      "62- Age of History II\n",
      "63- Immortal Redneck\n",
      "64- Hunt: Showdown\n",
      "65- Total War: WARHAMMER II\n",
      "66- Dead Cells\n",
      "67- Insurgency: Sandstorm\n",
      "68- PUBG: BATTLEGROUNDS\n",
      "69- Kingdoms and Castles\n",
      "70- World of Warships\n",
      "71- Far Cry® 5\n",
      "72- Warhammer: Vermintide 2\n",
      "73- Deep Rock Galactic\n",
      "74- For The King\n",
      "75- Satisfactory\n",
      "76- Totally Accurate Battle Simulator\n",
      "77- GTFO\n",
      "78- The Elder Scrolls V: Skyrim Special Edition\n",
      "79- Northgard\n",
      "80- Surviving Mars\n",
      "81- Hand of Fate 2\n",
      "82- Day of Infamy\n",
      "83- Wizard of Legend\n",
      "84- World of Tanks Blitz\n",
      "85- Paladins®\n",
      "86- Governor of Poker 3\n",
      "87- Divinity: Original Sin 2 - Definitive Edition\n",
      "88- Z1 Battle Royale\n",
      "89- Factorio\n",
      "90- Rising Storm 2: Vietnam\n",
      "91- Borderlands 3\n",
      "92- Hearts of Iron IV\n",
      "93- Punch Club\n",
      "94- ENDLESS™ Space 2\n",
      "95- TEKKEN 7\n",
      "96- Crossout\n",
      "97- Planetary Annihilation: TITANS\n",
      "98- Dead by Daylight\n",
      "99- Fallout 4\n",
      "100- DARK SOULS™ III\n",
      "101- Kingdom: Classic\n",
      "102- Total War: WARHAMMER\n",
      "103- ASTRONEER\n",
      "104- Tom Clancy's Rainbow Six® Siege\n",
      "105- Middle-earth™: Shadow of War™\n",
      "106- Survarium\n",
      "107- AdVenture Capitalist\n",
      "108- ARK: Survival Evolved\n",
      "109- Besiege\n",
      "110- Medieval Engineers\n",
      "111- Cossacks 3\n",
      "112- Children of Morta\n",
      "113- Worms W.M.D\n",
      "114- Move or Die\n",
      "115- SUPERHOT\n",
      "116- Don't Starve Together\n",
      "117- Might & Magic® Heroes® VII\n",
      "118- Sniper Elite 4\n",
      "119- Call of Duty®: Black Ops III\n",
      "120- The Long Dark\n",
      "121- Unturned\n",
      "122- FOR HONOR™\n",
      "123- Robocraft\n",
      "124- The Escapists\n",
      "125- Heroes® of Might & Magic® III - HD Edition\n",
      "126- RimWorld\n",
      "127- Brawlhalla\n",
      "128- Rebel Galaxy\n",
      "129- ENDLESS™ Legend\n",
      "130- Sid Meier’s Civilization® VI\n",
      "131- METAL GEAR SOLID V: THE PHANTOM PAIN\n",
      "132- Stellaris\n",
      "133- Evolve Stage 2\n",
      "134- Counter-Strike Nexon: Studio\n",
      "135- Grand Theft Auto V\n",
      "136- Hero Siege\n",
      "137- Goat Simulator\n",
      "138- Subnautica\n",
      "139- Darkest Dungeon®\n",
      "140- Mount & Blade II: Bannerlord\n",
      "141- Cities: Skylines\n",
      "142- Rocket League®\n",
      "143- Rust\n",
      "144- 7 Days to Die\n",
      "145- The Binding of Isaac: Rebirth\n",
      "146- Toribash\n",
      "147- Craft The World\n",
      "148- Nether: Resurrected\n",
      "149- Viscera Cleanup Detail\n",
      "150- Plague Inc: Evolved\n",
      "151- Tropico 5\n",
      "152- Space Engineers\n",
      "153- Verdun\n",
      "154- The Forest\n",
      "155- Game Dev Tycoon\n",
      "156- Dying Light\n",
      "157- Magicka 2\n",
      "158- The Banner Saga\n",
      "159- Europa Universalis IV\n",
      "160- War Thunder\n",
      "161- Stronghold Crusader 2\n",
      "162- Killing Floor 2\n",
      "163- Warframe\n",
      "164- Heroes & Generals\n",
      "165- Grim Dawn\n",
      "166- Don't Starve\n",
      "167- Chivalry: Medieval Warfare\n",
      "168- PAYDAY 2\n",
      "169- PlanetSide 2\n",
      "170- Dishonored\n",
      "171- Total War™: ROME II - Emperor Edition\n",
      "172- Star Conflict\n",
      "173- DARK SOULS™: Prepare To Die™ Edition\n",
      "174- Call of Duty®: Advanced Warfare - Gold Edition\n",
      "175- Call of Duty®: Advanced Warfare - Gold Edition\n",
      "176- Call of Duty®: Ghosts\n",
      "177- Call of Duty®: Ghosts\n",
      "178- Guns of Icarus Online\n",
      "179- AirMech Strike\n",
      "180- Call of Duty®: Black Ops II\n",
      "181- Call of Duty®: Black Ops II\n",
      "182- Project Zomboid\n",
      "183- Terraria\n",
      "184- Age of Empires® III (2007)\n",
      "185- The Elder Scrolls V: Skyrim\n",
      "186- Borderlands 2\n",
      "187- Mount & Blade: With Fire & Sword\n",
      "188- Mount & Blade: Warband\n",
      "189- Anno 2070™\n",
      "190- Might & Magic: Heroes VI\n",
      "191- Dead Rising® 2\n",
      "192- Call of Duty®: Black Ops\n",
      "193- Call of Duty®: Black Ops\n",
      "194- Supreme Commander 2\n",
      "195- Red Orchestra 2: Heroes of Stalingrad with Rising Storm\n",
      "196- Hearts of Iron III\n",
      "197- Command & Conquer 3: Kane's Wrath\n",
      "198- Command & Conquer 3: Tiberium Wars\n",
      "199- SPORE™ Galactic Adventures\n",
      "200- Mount & Blade\n",
      "201- Command & Conquer: Red Alert 3\n",
      "202- SPORE™\n",
      "203- Heroes of Might & Magic V: Tribes of the East\n",
      "204- Heroes of Might & Magic V\n",
      "205- Call of Duty®: Modern Warfare® 2 (2009)\n",
      "206- Call of Duty®: Modern Warfare® 2 (2009)\n",
      "207- Call of Duty: World at War\n",
      "208- Warhammer® 40,000: Dawn of War® - Soulstorm\n",
      "209- Supreme Commander: Forged Alliance\n",
      "210- Supreme Commander\n",
      "211- Sid Meier's Civilization® V\n",
      "212- BioShock Infinite\n",
      "213- EVE Online\n",
      "214- Just Cause 2\n",
      "215- BioShock™\n",
      "216- Star Wars: Battlefront 2 (Classic, 2005)\n",
      "217- Total War: MEDIEVAL II – Definitive Edition\n",
      "218- Garry's Mod\n",
      "219- Counter-Strike: Global Offensive\n",
      "220- Portal 2\n",
      "221- Left 4 Dead 2\n"
     ]
    }
   ],
   "source": [
    "lfr.sample_recommendation_user(model, df, steamid, threshold = 0, nrec_items = 10)"
   ]
  },
  {
   "attachments": {},
   "cell_type": "markdown",
   "metadata": {},
   "source": [
    "### cold start"
   ]
  },
  {
   "cell_type": "code",
   "execution_count": 23,
   "metadata": {},
   "outputs": [],
   "source": [
    "df_cold_start = pd.DataFrame({'game_names': ['Counter-Strike', 'Team Fortress Classic', \n",
    "                                             'Day of Defeat', \n",
    "                                             'Half-Life: Source', 'Half-Life: Opposing Force'],\n",
    "                   'rankings': [5, 5, 8, 7, 3]})"
   ]
  },
  {
   "cell_type": "code",
   "execution_count": 24,
   "metadata": {},
   "outputs": [
    {
     "data": {
      "text/html": [
       "<div>\n",
       "<style scoped>\n",
       "    .dataframe tbody tr th:only-of-type {\n",
       "        vertical-align: middle;\n",
       "    }\n",
       "\n",
       "    .dataframe tbody tr th {\n",
       "        vertical-align: top;\n",
       "    }\n",
       "\n",
       "    .dataframe thead th {\n",
       "        text-align: right;\n",
       "    }\n",
       "</style>\n",
       "<table border=\"1\" class=\"dataframe\">\n",
       "  <thead>\n",
       "    <tr style=\"text-align: right;\">\n",
       "      <th></th>\n",
       "      <th>game_names</th>\n",
       "      <th>rankings</th>\n",
       "    </tr>\n",
       "  </thead>\n",
       "  <tbody>\n",
       "    <tr>\n",
       "      <th>0</th>\n",
       "      <td>Counter-Strike</td>\n",
       "      <td>5</td>\n",
       "    </tr>\n",
       "    <tr>\n",
       "      <th>1</th>\n",
       "      <td>Team Fortress Classic</td>\n",
       "      <td>5</td>\n",
       "    </tr>\n",
       "  </tbody>\n",
       "</table>\n",
       "</div>"
      ],
      "text/plain": [
       "              game_names  rankings\n",
       "0         Counter-Strike         5\n",
       "1  Team Fortress Classic         5"
      ]
     },
     "execution_count": 24,
     "metadata": {},
     "output_type": "execute_result"
    }
   ],
   "source": [
    "df_cold_start.head(2)"
   ]
  },
  {
   "cell_type": "code",
   "execution_count": 35,
   "metadata": {},
   "outputs": [],
   "source": [
    "cold_start_user, steamid_cold = lfr.get_user_games_cold_start(df_cold_start)"
   ]
  },
  {
   "cell_type": "code",
   "execution_count": 36,
   "metadata": {},
   "outputs": [],
   "source": [
    "matrix_cs, df_cs = lfr.get_csr_matrix_for_all_users(cold_start_user)"
   ]
  },
  {
   "cell_type": "code",
   "execution_count": 20,
   "metadata": {},
   "outputs": [],
   "source": [
    "## в приложении поставить 100 эпох. 1 для теста\n",
    "model = lfr.fit_model(matrix_cs, epochs=10)"
   ]
  },
  {
   "cell_type": "code",
   "execution_count": 38,
   "metadata": {},
   "outputs": [
    {
     "name": "stdout",
     "output_type": "stream",
     "text": [
      "User: 1234567891010102930\n",
      "Recommended Items:\n",
      "1- Counter-Strike: Global Offensive\n",
      "2- Left 4 Dead 2\n",
      "3- PAYDAY 2\n",
      "4- Portal 2\n",
      "5- The Witcher® 3: Wild Hunt\n",
      "6- Terraria\n",
      "7- Half-Life 2\n",
      "8- Garry's Mod\n",
      "9- The Elder Scrolls V: Skyrim\n",
      "10- Dying Light\n",
      "\n",
      " Known Likes:\n",
      "1- Half-Life: Source\n",
      "2- Day of Defeat\n",
      "3- Team Fortress Classic\n",
      "4- Counter-Strike\n"
     ]
    }
   ],
   "source": [
    "lfr.sample_recommendation_user(model, df_cs, steamid_cold, threshold = 0, nrec_items = 10)"
   ]
  },
  {
   "cell_type": "markdown",
   "metadata": {},
   "source": [
    "### Валидация "
   ]
  },
  {
   "cell_type": "code",
   "execution_count": 169,
   "metadata": {},
   "outputs": [
    {
     "data": {
      "text/plain": [
       "((15352, 1785), (15352, 1785), (15352, 1785))"
      ]
     },
     "execution_count": 169,
     "metadata": {},
     "output_type": "execute_result"
    }
   ],
   "source": [
    "from lightfm.cross_validation import random_train_test_split\n",
    "\n",
    "train_data, test_data = random_train_test_split(matrix, test_percentage=0.2, random_state=42)\n",
    "train_data.shape, test_data.shape, matrix.shape"
   ]
  },
  {
   "cell_type": "code",
   "execution_count": 170,
   "metadata": {},
   "outputs": [],
   "source": [
    "from lightfm.evaluation import auc_score, precision_at_k, recall_at_k\n",
    "train_precision = precision_at_k(model, train_data, k=10, num_threads=1).mean()\n",
    "train_auc = auc_score(model, train_data, num_threads=4).mean()\n",
    "test_precision = precision_at_k(model, test_data, k=10, num_threads=1).mean()\n",
    "test_auc = auc_score(model, test_data, num_threads=4).mean()"
   ]
  },
  {
   "cell_type": "code",
   "execution_count": 171,
   "metadata": {},
   "outputs": [
    {
     "data": {
      "text/plain": [
       "(0.7595651, 0.90443504, 0.19060513, 0.8790407)"
      ]
     },
     "execution_count": 171,
     "metadata": {},
     "output_type": "execute_result"
    }
   ],
   "source": [
    "train_precision, train_auc, test_precision, test_auc"
   ]
  },
  {
   "cell_type": "code",
   "execution_count": null,
   "metadata": {},
   "outputs": [],
   "source": []
  }
 ],
 "metadata": {
  "kernelspec": {
   "display_name": "steam",
   "language": "python",
   "name": "python3"
  },
  "language_info": {
   "codemirror_mode": {
    "name": "ipython",
    "version": 3
   },
   "file_extension": ".py",
   "mimetype": "text/x-python",
   "name": "python",
   "nbconvert_exporter": "python",
   "pygments_lexer": "ipython3",
   "version": "3.9.6"
  },
  "orig_nbformat": 4
 },
 "nbformat": 4,
 "nbformat_minor": 2
}
