{
 "cells": [
  {
   "cell_type": "code",
   "execution_count": 1,
   "metadata": {},
   "outputs": [
    {
     "name": "stderr",
     "output_type": "stream",
     "text": [
      "/Users/vasevooo/projects/GameBuddy/steam/lib/python3.9/site-packages/urllib3/__init__.py:34: NotOpenSSLWarning: urllib3 v2.0 only supports OpenSSL 1.1.1+, currently the 'ssl' module is compiled with 'LibreSSL 2.8.3'. See: https://github.com/urllib3/urllib3/issues/3020\n",
      "  warnings.warn(\n",
      "/Users/vasevooo/projects/GameBuddy/steam/lib/python3.9/site-packages/lightfm/_lightfm_fast.py:9: UserWarning: LightFM was compiled without OpenMP support. Only a single thread will be used.\n",
      "  warnings.warn(\n"
     ]
    }
   ],
   "source": [
    "from lightfm_recomender import LightfmRecomender\n",
    "import os\n",
    "%load_ext autoreload\n",
    "%autoreload 2\n",
    "new_directory = '/Users/vasevooo/projects/GameBuddy'\n",
    "os.chdir(new_directory)\n",
    "import pandas as pd \n",
    "import requests\n",
    "import json\n",
    "from sklearn.preprocessing import MinMaxScaler, StandardScaler\n",
    "import numpy as np\n",
    "from lightfm import LightFM\n",
    "from scipy.sparse import csr_matrix, save_npz, load_npz"
   ]
  },
  {
   "attachments": {},
   "cell_type": "markdown",
   "metadata": {},
   "source": [
    "### обновление предобработанных данных для модели "
   ]
  },
  {
   "cell_type": "code",
   "execution_count": 93,
   "metadata": {},
   "outputs": [],
   "source": [
    "## Загрузить файл на свой локальный диск, если еще нет\n",
    "\n",
    "file_url = 'https://drive.google.com/file/d/1tt1DxIxKtJueQd81Wa6XibM1vDuuje9o/view?usp=sharing' ## Ссылка на гугл драйв от Вани"
   ]
  },
  {
   "cell_type": "code",
   "execution_count": 10,
   "metadata": {},
   "outputs": [],
   "source": [
    "ru_ids = pd.read_csv('data/final_gametime_df.csv')"
   ]
  },
  {
   "cell_type": "code",
   "execution_count": 11,
   "metadata": {},
   "outputs": [],
   "source": [
    "transformed_df = pd.melt(ru_ids, id_vars='steamid', var_name='game_id', value_name='ranking')\n",
    "transformed_df['game_id'] = transformed_df['game_id'].astype(int)"
   ]
  },
  {
   "cell_type": "code",
   "execution_count": 12,
   "metadata": {},
   "outputs": [],
   "source": [
    "scaler = MinMaxScaler(feature_range=(0, 100))\n",
    "\n",
    "transformed_df['s_ranking'] = transformed_df.groupby('game_id')['ranking'].transform(lambda x: scaler.fit_transform(x.values.reshape(-1, 1)).flatten())\n",
    "transformed_df['s_ranking'] = pd.to_numeric(transformed_df['s_ranking'])"
   ]
  },
  {
   "cell_type": "code",
   "execution_count": 94,
   "metadata": {},
   "outputs": [],
   "source": [
    "## сохранение df по юзерам для дальнейшего использования\n",
    "\n",
    "transformed_df.to_csv('data/for_models/users_games_df.csv', index=False)"
   ]
  },
  {
   "cell_type": "code",
   "execution_count": 16,
   "metadata": {},
   "outputs": [],
   "source": [
    "games = pd.read_csv('data/game_info_with_scores.csv')\n",
    "item_dict ={}\n",
    "games = games[['appid', 'Name']].sort_values('appid').reset_index()\n",
    "games['appid'] = games['appid'].astype(int)\n",
    "\n",
    "for i in range(games.shape[0]):\n",
    "    item_dict[int(games.loc[i,'appid'])] = games.loc[i,'Name']"
   ]
  },
  {
   "cell_type": "code",
   "execution_count": 96,
   "metadata": {},
   "outputs": [],
   "source": [
    "## сохранение словаря по играм для дальнейшего использования\n",
    "\n",
    "with open(\"data/for_models/item_dict.json\", \"w\") as outfile:\n",
    "    json.dump(item_dict, outfile, indent=4)"
   ]
  },
  {
   "cell_type": "markdown",
   "metadata": {},
   "source": [
    "### Тест класса LigthFM Recomender"
   ]
  },
  {
   "cell_type": "code",
   "execution_count": 101,
   "metadata": {},
   "outputs": [],
   "source": [
    "item_dict_path = 'data/for_models/item_dict.json'\n",
    "users_games_df_path = 'data/for_models/users_games_df.csv'\n",
    "\n",
    "lfr = LightfmRecomender(users_games_df_path, item_dict_path)"
   ]
  },
  {
   "cell_type": "code",
   "execution_count": 4,
   "metadata": {},
   "outputs": [],
   "source": [
    "steamid = 76561198156258305"
   ]
  },
  {
   "cell_type": "code",
   "execution_count": 29,
   "metadata": {},
   "outputs": [],
   "source": [
    "new_user = lfr.get_user_games(steamid)"
   ]
  },
  {
   "cell_type": "code",
   "execution_count": 30,
   "metadata": {},
   "outputs": [],
   "source": [
    "matrix, df = lfr.get_csr_matrix_for_all_users(new_user)"
   ]
  },
  {
   "cell_type": "code",
   "execution_count": 31,
   "metadata": {},
   "outputs": [],
   "source": [
    "model = lfr.fit_model(matrix, epochs=1)"
   ]
  },
  {
   "cell_type": "code",
   "execution_count": 32,
   "metadata": {},
   "outputs": [
    {
     "name": "stdout",
     "output_type": "stream",
     "text": [
      "User: 76561198156258305\n",
      "Recommended Items:\n",
      "1- Terraria\n",
      "2- Portal 2\n",
      "3- Don't Starve Together\n",
      "4- Garry's Mod\n",
      "5- Dying Light\n",
      "6- Tomb Raider\n",
      "7- The Witcher 2: Assassins of Kings Enhanced Edition\n",
      "8- The Elder Scrolls V: Skyrim\n",
      "9- Half-Life 2\n",
      "10- Grand Theft Auto V\n",
      "\n",
      " Known Likes:\n",
      "1- Torchlight: Infinite\n",
      "2- EA SPORTS™ FIFA 23\n",
      "3- Vampire Survivors\n",
      "4- V Rising\n",
      "5- God of War\n",
      "6- The Callisto Protocol™\n",
      "7- Forza Horizon 4\n",
      "8- ELDEN RING\n",
      "9- Gunfire Reborn\n",
      "10- Potion Craft: Alchemist Simulator\n",
      "11- Gears Tactics\n",
      "12- Sea of Thieves 2023 Edition\n",
      "13- Apex Legends™\n",
      "14- Total War: WARHAMMER III\n",
      "15- Curse of the Dead Gods\n",
      "16- Cyberpunk 2077\n",
      "17- Destiny 2\n",
      "18- Ori and the Will of the Wisps\n",
      "19- Dota Underlords\n",
      "20- Mortal Kombat 11\n",
      "21- Among Us\n",
      "22- Back 4 Blood\n",
      "23- Age of Empires II: Definitive Edition\n",
      "24- DOOM Eternal\n",
      "25- Gloomhaven\n",
      "26- Ring of Elysium\n",
      "27- UnderMine\n",
      "28- Slay the Spire\n",
      "29- Disco Elysium - The Final Cut\n",
      "30- Quake Champions\n",
      "31- Realm Grinder\n",
      "32- Graveyard Keeper\n",
      "33- Hunt: Showdown\n",
      "34- Dead Cells\n",
      "35- PUBG: BATTLEGROUNDS\n",
      "36- Alien Swarm: Reactive Drop\n",
      "37- Warhammer: Vermintide 2\n",
      "38- Deep Rock Galactic\n",
      "39- Warhammer 40,000: Inquisitor - Martyr\n",
      "40- GTFO\n",
      "41- The Elder Scrolls V: Skyrim Special Edition\n",
      "42- Minion Masters\n",
      "43- Human: Fall Flat\n",
      "44- Beholder\n",
      "45- Titan Quest Anniversary Edition\n",
      "46- Paladins®\n",
      "47- Divinity: Original Sin 2 - Definitive Edition\n",
      "48- Factorio\n",
      "49- Shadow Tactics: Blades of the Shogun\n",
      "50- Stardew Valley\n",
      "51- BioShock™ 2 Remastered\n",
      "52- BioShock™ Remastered\n",
      "53- Dishonored 2\n",
      "54- Punch Club\n",
      "55- SMITE®\n",
      "56- Crossout\n",
      "57- DOOM\n",
      "58- Fallout 4\n",
      "59- Divinity: Original Sin - Enhanced Edition\n",
      "60- Black Mesa\n",
      "61- Middle-earth™: Shadow of War™\n",
      "62- AdVenture Capitalist\n",
      "63- Besiege\n",
      "64- Jotun: Valhalla Edition\n",
      "65- Magic Duels\n",
      "66- The Elder Scrolls® Online\n",
      "67- The Long Dark\n",
      "68- FOR HONOR™\n",
      "69- Robocraft\n",
      "70- The Witcher® 3: Wild Hunt\n",
      "71- Tabletop Simulator\n",
      "72- This War of Mine\n",
      "73- Stellaris\n",
      "74- A Story About My Uncle\n",
      "75- Hotline Miami 2: Wrong Number\n",
      "76- Hero Siege\n",
      "77- XCOM® 2\n",
      "78- Rocket League®\n",
      "79- Rust\n",
      "80- The Binding of Isaac: Rebirth\n",
      "81- How to Survive\n",
      "82- Risk of Rain\n",
      "83- Styx: Master of Shadows\n",
      "84- Thief\n",
      "85- Path of Exile\n",
      "86- Magicka 2\n",
      "87- Transistor\n",
      "88- War Thunder\n",
      "89- Prison Architect\n",
      "90- Warframe\n",
      "91- Divinity: Original Sin (Classic)\n",
      "92- Grim Dawn\n",
      "93- Chivalry: Medieval Warfare\n",
      "94- Hotline Miami\n",
      "95- PAYDAY 2\n",
      "96- The Incredible Adventures of Van Helsing\n",
      "97- Space Rangers HD: A War Apart\n",
      "98- Deponia\n",
      "99- Star Conflict\n",
      "100- STAR WARS™ Knights of the Old Republic™ II - The Sith Lords™\n",
      "101- Call of Juarez: Gunslinger\n",
      "102- Wolfenstein: The New Order\n",
      "103- Torchlight II\n",
      "104- Neverwinter\n",
      "105- Alan Wake\n",
      "106- Dungeon Defenders\n",
      "107- Warhammer 40,000: Space Marine - Anniversary Edition\n",
      "108- Borderlands 2\n",
      "109- Supreme Commander 2\n",
      "110- Gothic® 3\n",
      "111- Alien Shooter\n",
      "112- STAR WARS™ Empire at War - Gold Pack\n",
      "113- STAR WARS™ Knights of the Old Republic™\n",
      "114- Fallout: New Vegas\n",
      "115- Dragon Age: Origins\n",
      "116- Oddworld: Abe's Oddysee®\n",
      "117- Supreme Commander: Forged Alliance\n",
      "118- Sid Meier's Civilization® V\n",
      "119- BioShock Infinite\n",
      "120- EVE Online\n",
      "121- BioShock™\n",
      "122- Star Wars: Battlefront 2 (Classic, 2005)\n",
      "123- STAR WARS™ Jedi Knight - Jedi Academy™\n",
      "124- STAR WARS™ Republic Commando™\n",
      "125- Counter-Strike: Global Offensive\n",
      "126- Left 4 Dead 2\n"
     ]
    }
   ],
   "source": [
    "lfr.sample_recommendation_user(model, df, steamid, threshold = 0, nrec_items = 10)"
   ]
  },
  {
   "cell_type": "code",
   "execution_count": 102,
   "metadata": {},
   "outputs": [],
   "source": [
    "df_cold_start = pd.DataFrame({'game_names': ['Counter-Strike', 'Team Fortress Classic', 'Day of Defeat'],\n",
    "                   'rankings': [5, 5, 8]})"
   ]
  },
  {
   "cell_type": "code",
   "execution_count": null,
   "metadata": {},
   "outputs": [],
   "source": [
    "item_dict"
   ]
  },
  {
   "cell_type": "code",
   "execution_count": 103,
   "metadata": {},
   "outputs": [],
   "source": [
    "cold_start_user = lfr.get_user_games_cold_start(df_cold_start)"
   ]
  },
  {
   "cell_type": "code",
   "execution_count": 104,
   "metadata": {},
   "outputs": [
    {
     "data": {
      "text/html": [
       "<div>\n",
       "<style scoped>\n",
       "    .dataframe tbody tr th:only-of-type {\n",
       "        vertical-align: middle;\n",
       "    }\n",
       "\n",
       "    .dataframe tbody tr th {\n",
       "        vertical-align: top;\n",
       "    }\n",
       "\n",
       "    .dataframe thead th {\n",
       "        text-align: right;\n",
       "    }\n",
       "</style>\n",
       "<table border=\"1\" class=\"dataframe\">\n",
       "  <thead>\n",
       "    <tr style=\"text-align: right;\">\n",
       "      <th></th>\n",
       "      <th>game_id</th>\n",
       "      <th>game_name</th>\n",
       "      <th>ranking</th>\n",
       "      <th>s_ranking</th>\n",
       "      <th>steam_id</th>\n",
       "    </tr>\n",
       "  </thead>\n",
       "  <tbody>\n",
       "    <tr>\n",
       "      <th>2</th>\n",
       "      <td>30</td>\n",
       "      <td>Day of Defeat</td>\n",
       "      <td>8.0</td>\n",
       "      <td>1.414214</td>\n",
       "      <td>1234567891010102930</td>\n",
       "    </tr>\n",
       "    <tr>\n",
       "      <th>0</th>\n",
       "      <td>10</td>\n",
       "      <td>Counter-Strike</td>\n",
       "      <td>5.0</td>\n",
       "      <td>-0.707107</td>\n",
       "      <td>1234567891010102930</td>\n",
       "    </tr>\n",
       "    <tr>\n",
       "      <th>1</th>\n",
       "      <td>20</td>\n",
       "      <td>Team Fortress Classic</td>\n",
       "      <td>5.0</td>\n",
       "      <td>-0.707107</td>\n",
       "      <td>1234567891010102930</td>\n",
       "    </tr>\n",
       "    <tr>\n",
       "      <th>1783</th>\n",
       "      <td>2221490</td>\n",
       "      <td>0</td>\n",
       "      <td>0.0</td>\n",
       "      <td>0.000000</td>\n",
       "      <td>1234567891010102930</td>\n",
       "    </tr>\n",
       "    <tr>\n",
       "      <th>1186</th>\n",
       "      <td>550650</td>\n",
       "      <td>0</td>\n",
       "      <td>0.0</td>\n",
       "      <td>0.000000</td>\n",
       "      <td>1234567891010102930</td>\n",
       "    </tr>\n",
       "    <tr>\n",
       "      <th>1197</th>\n",
       "      <td>557400</td>\n",
       "      <td>0</td>\n",
       "      <td>0.0</td>\n",
       "      <td>0.000000</td>\n",
       "      <td>1234567891010102930</td>\n",
       "    </tr>\n",
       "    <tr>\n",
       "      <th>1196</th>\n",
       "      <td>557340</td>\n",
       "      <td>0</td>\n",
       "      <td>0.0</td>\n",
       "      <td>0.000000</td>\n",
       "      <td>1234567891010102930</td>\n",
       "    </tr>\n",
       "    <tr>\n",
       "      <th>1195</th>\n",
       "      <td>555570</td>\n",
       "      <td>0</td>\n",
       "      <td>0.0</td>\n",
       "      <td>0.000000</td>\n",
       "      <td>1234567891010102930</td>\n",
       "    </tr>\n",
       "    <tr>\n",
       "      <th>1194</th>\n",
       "      <td>555160</td>\n",
       "      <td>0</td>\n",
       "      <td>0.0</td>\n",
       "      <td>0.000000</td>\n",
       "      <td>1234567891010102930</td>\n",
       "    </tr>\n",
       "    <tr>\n",
       "      <th>1193</th>\n",
       "      <td>554620</td>\n",
       "      <td>0</td>\n",
       "      <td>0.0</td>\n",
       "      <td>0.000000</td>\n",
       "      <td>1234567891010102930</td>\n",
       "    </tr>\n",
       "  </tbody>\n",
       "</table>\n",
       "</div>"
      ],
      "text/plain": [
       "      game_id              game_name  ranking  s_ranking             steam_id\n",
       "2          30          Day of Defeat      8.0   1.414214  1234567891010102930\n",
       "0          10         Counter-Strike      5.0  -0.707107  1234567891010102930\n",
       "1          20  Team Fortress Classic      5.0  -0.707107  1234567891010102930\n",
       "1783  2221490                      0      0.0   0.000000  1234567891010102930\n",
       "1186   550650                      0      0.0   0.000000  1234567891010102930\n",
       "1197   557400                      0      0.0   0.000000  1234567891010102930\n",
       "1196   557340                      0      0.0   0.000000  1234567891010102930\n",
       "1195   555570                      0      0.0   0.000000  1234567891010102930\n",
       "1194   555160                      0      0.0   0.000000  1234567891010102930\n",
       "1193   554620                      0      0.0   0.000000  1234567891010102930"
      ]
     },
     "execution_count": 104,
     "metadata": {},
     "output_type": "execute_result"
    }
   ],
   "source": [
    "cold_start_user.sort_values(by='ranking', ascending=False).head(10)"
   ]
  },
  {
   "cell_type": "code",
   "execution_count": 90,
   "metadata": {},
   "outputs": [
    {
     "data": {
      "text/html": [
       "<div>\n",
       "<style scoped>\n",
       "    .dataframe tbody tr th:only-of-type {\n",
       "        vertical-align: middle;\n",
       "    }\n",
       "\n",
       "    .dataframe tbody tr th {\n",
       "        vertical-align: top;\n",
       "    }\n",
       "\n",
       "    .dataframe thead th {\n",
       "        text-align: right;\n",
       "    }\n",
       "</style>\n",
       "<table border=\"1\" class=\"dataframe\">\n",
       "  <thead>\n",
       "    <tr style=\"text-align: right;\">\n",
       "      <th></th>\n",
       "      <th>game_id</th>\n",
       "      <th>game_name</th>\n",
       "      <th>ranking</th>\n",
       "      <th>steam_id</th>\n",
       "    </tr>\n",
       "  </thead>\n",
       "  <tbody>\n",
       "    <tr>\n",
       "      <th>0</th>\n",
       "      <td>10</td>\n",
       "      <td>Counter-Strike</td>\n",
       "      <td>0.0</td>\n",
       "      <td>1234567891010102930</td>\n",
       "    </tr>\n",
       "  </tbody>\n",
       "</table>\n",
       "</div>"
      ],
      "text/plain": [
       "   game_id       game_name  ranking             steam_id\n",
       "0       10  Counter-Strike      0.0  1234567891010102930"
      ]
     },
     "execution_count": 90,
     "metadata": {},
     "output_type": "execute_result"
    }
   ],
   "source": [
    "cold_start_user[cold_start_user['game_id'] == 10]"
   ]
  },
  {
   "cell_type": "code",
   "execution_count": 68,
   "metadata": {},
   "outputs": [
    {
     "ename": "KeyboardInterrupt",
     "evalue": "",
     "output_type": "error",
     "traceback": [
      "\u001b[0;31m---------------------------------------------------------------------------\u001b[0m",
      "\u001b[0;31mKeyboardInterrupt\u001b[0m                         Traceback (most recent call last)",
      "Cell \u001b[0;32mIn[68], line 1\u001b[0m\n\u001b[0;32m----> 1\u001b[0m matrix, df \u001b[39m=\u001b[39m lfr\u001b[39m.\u001b[39;49mget_csr_matrix_for_all_users(cold_start_user)\n",
      "File \u001b[0;32m~/projects/GameBuddy/notebooks/lightfm_recomender.py:78\u001b[0m, in \u001b[0;36mLightfmRecomender.get_csr_matrix_for_all_users\u001b[0;34m(self, df_user)\u001b[0m\n\u001b[1;32m     76\u001b[0m \u001b[39mdef\u001b[39;00m \u001b[39mget_csr_matrix_for_all_users\u001b[39m (\u001b[39mself\u001b[39m, df_user): \n\u001b[1;32m     77\u001b[0m     one_user_interactions \u001b[39m=\u001b[39m pd\u001b[39m.\u001b[39mpivot_table(df_user, index\u001b[39m=\u001b[39m\u001b[39m'\u001b[39m\u001b[39msteam_id\u001b[39m\u001b[39m'\u001b[39m, columns\u001b[39m=\u001b[39m\u001b[39m'\u001b[39m\u001b[39mgame_id\u001b[39m\u001b[39m'\u001b[39m, values\u001b[39m=\u001b[39m\u001b[39m'\u001b[39m\u001b[39mranking\u001b[39m\u001b[39m'\u001b[39m)\n\u001b[0;32m---> 78\u001b[0m     all_users_interactions \u001b[39m=\u001b[39m pd\u001b[39m.\u001b[39;49mpivot_table(\u001b[39mself\u001b[39;49m\u001b[39m.\u001b[39;49musers_games_df, index\u001b[39m=\u001b[39;49m\u001b[39m'\u001b[39;49m\u001b[39msteam_id\u001b[39;49m\u001b[39m'\u001b[39;49m, columns\u001b[39m=\u001b[39;49m\u001b[39m'\u001b[39;49m\u001b[39mgame_id\u001b[39;49m\u001b[39m'\u001b[39;49m, values\u001b[39m=\u001b[39;49m\u001b[39m'\u001b[39;49m\u001b[39mranking\u001b[39;49m\u001b[39m'\u001b[39;49m)\n\u001b[1;32m     79\u001b[0m     new_user_added_df \u001b[39m=\u001b[39m pd\u001b[39m.\u001b[39mconcat([all_users_interactions, one_user_interactions], axis\u001b[39m=\u001b[39m\u001b[39m0\u001b[39m)\n\u001b[1;32m     80\u001b[0m     new_user_added_df \u001b[39m=\u001b[39m new_user_added_df\u001b[39m.\u001b[39mfillna(\u001b[39m0\u001b[39m)\n",
      "File \u001b[0;32m~/projects/GameBuddy/steam/lib/python3.9/site-packages/pandas/core/reshape/pivot.py:97\u001b[0m, in \u001b[0;36mpivot_table\u001b[0;34m(data, values, index, columns, aggfunc, fill_value, margins, dropna, margins_name, observed, sort)\u001b[0m\n\u001b[1;32m     94\u001b[0m     table \u001b[39m=\u001b[39m concat(pieces, keys\u001b[39m=\u001b[39mkeys, axis\u001b[39m=\u001b[39m\u001b[39m1\u001b[39m)\n\u001b[1;32m     95\u001b[0m     \u001b[39mreturn\u001b[39;00m table\u001b[39m.\u001b[39m__finalize__(data, method\u001b[39m=\u001b[39m\u001b[39m\"\u001b[39m\u001b[39mpivot_table\u001b[39m\u001b[39m\"\u001b[39m)\n\u001b[0;32m---> 97\u001b[0m table \u001b[39m=\u001b[39m __internal_pivot_table(\n\u001b[1;32m     98\u001b[0m     data,\n\u001b[1;32m     99\u001b[0m     values,\n\u001b[1;32m    100\u001b[0m     index,\n\u001b[1;32m    101\u001b[0m     columns,\n\u001b[1;32m    102\u001b[0m     aggfunc,\n\u001b[1;32m    103\u001b[0m     fill_value,\n\u001b[1;32m    104\u001b[0m     margins,\n\u001b[1;32m    105\u001b[0m     dropna,\n\u001b[1;32m    106\u001b[0m     margins_name,\n\u001b[1;32m    107\u001b[0m     observed,\n\u001b[1;32m    108\u001b[0m     sort,\n\u001b[1;32m    109\u001b[0m )\n\u001b[1;32m    110\u001b[0m \u001b[39mreturn\u001b[39;00m table\u001b[39m.\u001b[39m__finalize__(data, method\u001b[39m=\u001b[39m\u001b[39m\"\u001b[39m\u001b[39mpivot_table\u001b[39m\u001b[39m\"\u001b[39m)\n",
      "File \u001b[0;32m~/projects/GameBuddy/steam/lib/python3.9/site-packages/pandas/core/reshape/pivot.py:167\u001b[0m, in \u001b[0;36m__internal_pivot_table\u001b[0;34m(data, values, index, columns, aggfunc, fill_value, margins, dropna, margins_name, observed, sort)\u001b[0m\n\u001b[1;32m    164\u001b[0m     values \u001b[39m=\u001b[39m \u001b[39mlist\u001b[39m(values)\n\u001b[1;32m    166\u001b[0m grouped \u001b[39m=\u001b[39m data\u001b[39m.\u001b[39mgroupby(keys, observed\u001b[39m=\u001b[39mobserved, sort\u001b[39m=\u001b[39msort)\n\u001b[0;32m--> 167\u001b[0m agged \u001b[39m=\u001b[39m grouped\u001b[39m.\u001b[39;49magg(aggfunc)\n\u001b[1;32m    169\u001b[0m \u001b[39mif\u001b[39;00m dropna \u001b[39mand\u001b[39;00m \u001b[39misinstance\u001b[39m(agged, ABCDataFrame) \u001b[39mand\u001b[39;00m \u001b[39mlen\u001b[39m(agged\u001b[39m.\u001b[39mcolumns):\n\u001b[1;32m    170\u001b[0m     agged \u001b[39m=\u001b[39m agged\u001b[39m.\u001b[39mdropna(how\u001b[39m=\u001b[39m\u001b[39m\"\u001b[39m\u001b[39mall\u001b[39m\u001b[39m\"\u001b[39m)\n",
      "File \u001b[0;32m~/projects/GameBuddy/steam/lib/python3.9/site-packages/pandas/core/groupby/generic.py:1269\u001b[0m, in \u001b[0;36mDataFrameGroupBy.aggregate\u001b[0;34m(self, func, engine, engine_kwargs, *args, **kwargs)\u001b[0m\n\u001b[1;32m   1266\u001b[0m func \u001b[39m=\u001b[39m maybe_mangle_lambdas(func)\n\u001b[1;32m   1268\u001b[0m op \u001b[39m=\u001b[39m GroupByApply(\u001b[39mself\u001b[39m, func, args, kwargs)\n\u001b[0;32m-> 1269\u001b[0m result \u001b[39m=\u001b[39m op\u001b[39m.\u001b[39;49magg()\n\u001b[1;32m   1270\u001b[0m \u001b[39mif\u001b[39;00m \u001b[39mnot\u001b[39;00m is_dict_like(func) \u001b[39mand\u001b[39;00m result \u001b[39mis\u001b[39;00m \u001b[39mnot\u001b[39;00m \u001b[39mNone\u001b[39;00m:\n\u001b[1;32m   1271\u001b[0m     \u001b[39mreturn\u001b[39;00m result\n",
      "File \u001b[0;32m~/projects/GameBuddy/steam/lib/python3.9/site-packages/pandas/core/apply.py:160\u001b[0m, in \u001b[0;36mApply.agg\u001b[0;34m(self)\u001b[0m\n\u001b[1;32m    157\u001b[0m kwargs \u001b[39m=\u001b[39m \u001b[39mself\u001b[39m\u001b[39m.\u001b[39mkwargs\n\u001b[1;32m    159\u001b[0m \u001b[39mif\u001b[39;00m \u001b[39misinstance\u001b[39m(arg, \u001b[39mstr\u001b[39m):\n\u001b[0;32m--> 160\u001b[0m     \u001b[39mreturn\u001b[39;00m \u001b[39mself\u001b[39;49m\u001b[39m.\u001b[39;49mapply_str()\n\u001b[1;32m    162\u001b[0m \u001b[39mif\u001b[39;00m is_dict_like(arg):\n\u001b[1;32m    163\u001b[0m     \u001b[39mreturn\u001b[39;00m \u001b[39mself\u001b[39m\u001b[39m.\u001b[39magg_dict_like()\n",
      "File \u001b[0;32m~/projects/GameBuddy/steam/lib/python3.9/site-packages/pandas/core/apply.py:496\u001b[0m, in \u001b[0;36mApply.apply_str\u001b[0;34m(self)\u001b[0m\n\u001b[1;32m    494\u001b[0m     \u001b[39mif\u001b[39;00m \u001b[39m\"\u001b[39m\u001b[39maxis\u001b[39m\u001b[39m\"\u001b[39m \u001b[39min\u001b[39;00m arg_names:\n\u001b[1;32m    495\u001b[0m         \u001b[39mself\u001b[39m\u001b[39m.\u001b[39mkwargs[\u001b[39m\"\u001b[39m\u001b[39maxis\u001b[39m\u001b[39m\"\u001b[39m] \u001b[39m=\u001b[39m \u001b[39mself\u001b[39m\u001b[39m.\u001b[39maxis\n\u001b[0;32m--> 496\u001b[0m \u001b[39mreturn\u001b[39;00m \u001b[39mself\u001b[39;49m\u001b[39m.\u001b[39;49m_try_aggregate_string_function(obj, f, \u001b[39m*\u001b[39;49m\u001b[39mself\u001b[39;49m\u001b[39m.\u001b[39;49margs, \u001b[39m*\u001b[39;49m\u001b[39m*\u001b[39;49m\u001b[39mself\u001b[39;49m\u001b[39m.\u001b[39;49mkwargs)\n",
      "File \u001b[0;32m~/projects/GameBuddy/steam/lib/python3.9/site-packages/pandas/core/apply.py:565\u001b[0m, in \u001b[0;36mApply._try_aggregate_string_function\u001b[0;34m(self, obj, arg, *args, **kwargs)\u001b[0m\n\u001b[1;32m    563\u001b[0m \u001b[39mif\u001b[39;00m f \u001b[39mis\u001b[39;00m \u001b[39mnot\u001b[39;00m \u001b[39mNone\u001b[39;00m:\n\u001b[1;32m    564\u001b[0m     \u001b[39mif\u001b[39;00m \u001b[39mcallable\u001b[39m(f):\n\u001b[0;32m--> 565\u001b[0m         \u001b[39mreturn\u001b[39;00m f(\u001b[39m*\u001b[39;49margs, \u001b[39m*\u001b[39;49m\u001b[39m*\u001b[39;49mkwargs)\n\u001b[1;32m    567\u001b[0m     \u001b[39m# people may try to aggregate on a non-callable attribute\u001b[39;00m\n\u001b[1;32m    568\u001b[0m     \u001b[39m# but don't let them think they can pass args to it\u001b[39;00m\n\u001b[1;32m    569\u001b[0m     \u001b[39massert\u001b[39;00m \u001b[39mlen\u001b[39m(args) \u001b[39m==\u001b[39m \u001b[39m0\u001b[39m\n",
      "File \u001b[0;32m~/projects/GameBuddy/steam/lib/python3.9/site-packages/pandas/core/groupby/groupby.py:1855\u001b[0m, in \u001b[0;36mGroupBy.mean\u001b[0;34m(self, numeric_only, engine, engine_kwargs)\u001b[0m\n\u001b[1;32m   1853\u001b[0m     \u001b[39mreturn\u001b[39;00m \u001b[39mself\u001b[39m\u001b[39m.\u001b[39m_numba_agg_general(sliding_mean, engine_kwargs)\n\u001b[1;32m   1854\u001b[0m \u001b[39melse\u001b[39;00m:\n\u001b[0;32m-> 1855\u001b[0m     result \u001b[39m=\u001b[39m \u001b[39mself\u001b[39;49m\u001b[39m.\u001b[39;49m_cython_agg_general(\n\u001b[1;32m   1856\u001b[0m         \u001b[39m\"\u001b[39;49m\u001b[39mmean\u001b[39;49m\u001b[39m\"\u001b[39;49m,\n\u001b[1;32m   1857\u001b[0m         alt\u001b[39m=\u001b[39;49m\u001b[39mlambda\u001b[39;49;00m x: Series(x)\u001b[39m.\u001b[39;49mmean(numeric_only\u001b[39m=\u001b[39;49mnumeric_only),\n\u001b[1;32m   1858\u001b[0m         numeric_only\u001b[39m=\u001b[39;49mnumeric_only,\n\u001b[1;32m   1859\u001b[0m     )\n\u001b[1;32m   1860\u001b[0m     \u001b[39mreturn\u001b[39;00m result\u001b[39m.\u001b[39m__finalize__(\u001b[39mself\u001b[39m\u001b[39m.\u001b[39mobj, method\u001b[39m=\u001b[39m\u001b[39m\"\u001b[39m\u001b[39mgroupby\u001b[39m\u001b[39m\"\u001b[39m)\n",
      "File \u001b[0;32m~/projects/GameBuddy/steam/lib/python3.9/site-packages/pandas/core/groupby/groupby.py:1507\u001b[0m, in \u001b[0;36mGroupBy._cython_agg_general\u001b[0;34m(self, how, alt, numeric_only, min_count, **kwargs)\u001b[0m\n\u001b[1;32m   1503\u001b[0m         result \u001b[39m=\u001b[39m \u001b[39mself\u001b[39m\u001b[39m.\u001b[39m_agg_py_fallback(values, ndim\u001b[39m=\u001b[39mdata\u001b[39m.\u001b[39mndim, alt\u001b[39m=\u001b[39malt)\n\u001b[1;32m   1505\u001b[0m     \u001b[39mreturn\u001b[39;00m result\n\u001b[0;32m-> 1507\u001b[0m new_mgr \u001b[39m=\u001b[39m data\u001b[39m.\u001b[39;49mgrouped_reduce(array_func)\n\u001b[1;32m   1508\u001b[0m res \u001b[39m=\u001b[39m \u001b[39mself\u001b[39m\u001b[39m.\u001b[39m_wrap_agged_manager(new_mgr)\n\u001b[1;32m   1509\u001b[0m out \u001b[39m=\u001b[39m \u001b[39mself\u001b[39m\u001b[39m.\u001b[39m_wrap_aggregated_output(res)\n",
      "File \u001b[0;32m~/projects/GameBuddy/steam/lib/python3.9/site-packages/pandas/core/internals/managers.py:1506\u001b[0m, in \u001b[0;36mBlockManager.grouped_reduce\u001b[0;34m(self, func)\u001b[0m\n\u001b[1;32m   1504\u001b[0m             result_blocks \u001b[39m=\u001b[39m extend_blocks(applied, result_blocks)\n\u001b[1;32m   1505\u001b[0m     \u001b[39melse\u001b[39;00m:\n\u001b[0;32m-> 1506\u001b[0m         applied \u001b[39m=\u001b[39m blk\u001b[39m.\u001b[39;49mapply(func)\n\u001b[1;32m   1507\u001b[0m         result_blocks \u001b[39m=\u001b[39m extend_blocks(applied, result_blocks)\n\u001b[1;32m   1509\u001b[0m \u001b[39mif\u001b[39;00m \u001b[39mlen\u001b[39m(result_blocks) \u001b[39m==\u001b[39m \u001b[39m0\u001b[39m:\n",
      "File \u001b[0;32m~/projects/GameBuddy/steam/lib/python3.9/site-packages/pandas/core/internals/blocks.py:329\u001b[0m, in \u001b[0;36mBlock.apply\u001b[0;34m(self, func, **kwargs)\u001b[0m\n\u001b[1;32m    323\u001b[0m \u001b[39m@final\u001b[39m\n\u001b[1;32m    324\u001b[0m \u001b[39mdef\u001b[39;00m \u001b[39mapply\u001b[39m(\u001b[39mself\u001b[39m, func, \u001b[39m*\u001b[39m\u001b[39m*\u001b[39mkwargs) \u001b[39m-\u001b[39m\u001b[39m>\u001b[39m \u001b[39mlist\u001b[39m[Block]:\n\u001b[1;32m    325\u001b[0m \u001b[39m    \u001b[39m\u001b[39m\"\"\"\u001b[39;00m\n\u001b[1;32m    326\u001b[0m \u001b[39m    apply the function to my values; return a block if we are not\u001b[39;00m\n\u001b[1;32m    327\u001b[0m \u001b[39m    one\u001b[39;00m\n\u001b[1;32m    328\u001b[0m \u001b[39m    \"\"\"\u001b[39;00m\n\u001b[0;32m--> 329\u001b[0m     result \u001b[39m=\u001b[39m func(\u001b[39mself\u001b[39;49m\u001b[39m.\u001b[39;49mvalues, \u001b[39m*\u001b[39;49m\u001b[39m*\u001b[39;49mkwargs)\n\u001b[1;32m    331\u001b[0m     \u001b[39mreturn\u001b[39;00m \u001b[39mself\u001b[39m\u001b[39m.\u001b[39m_split_op_result(result)\n",
      "File \u001b[0;32m~/projects/GameBuddy/steam/lib/python3.9/site-packages/pandas/core/groupby/groupby.py:1490\u001b[0m, in \u001b[0;36mGroupBy._cython_agg_general.<locals>.array_func\u001b[0;34m(values)\u001b[0m\n\u001b[1;32m   1488\u001b[0m \u001b[39mdef\u001b[39;00m \u001b[39marray_func\u001b[39m(values: ArrayLike) \u001b[39m-\u001b[39m\u001b[39m>\u001b[39m ArrayLike:\n\u001b[1;32m   1489\u001b[0m     \u001b[39mtry\u001b[39;00m:\n\u001b[0;32m-> 1490\u001b[0m         result \u001b[39m=\u001b[39m \u001b[39mself\u001b[39;49m\u001b[39m.\u001b[39;49mgrouper\u001b[39m.\u001b[39;49m_cython_operation(\n\u001b[1;32m   1491\u001b[0m             \u001b[39m\"\u001b[39;49m\u001b[39maggregate\u001b[39;49m\u001b[39m\"\u001b[39;49m,\n\u001b[1;32m   1492\u001b[0m             values,\n\u001b[1;32m   1493\u001b[0m             how,\n\u001b[1;32m   1494\u001b[0m             axis\u001b[39m=\u001b[39;49mdata\u001b[39m.\u001b[39;49mndim \u001b[39m-\u001b[39;49m \u001b[39m1\u001b[39;49m,\n\u001b[1;32m   1495\u001b[0m             min_count\u001b[39m=\u001b[39;49mmin_count,\n\u001b[1;32m   1496\u001b[0m             \u001b[39m*\u001b[39;49m\u001b[39m*\u001b[39;49mkwargs,\n\u001b[1;32m   1497\u001b[0m         )\n\u001b[1;32m   1498\u001b[0m     \u001b[39mexcept\u001b[39;00m \u001b[39mNotImplementedError\u001b[39;00m:\n\u001b[1;32m   1499\u001b[0m         \u001b[39m# generally if we have numeric_only=False\u001b[39;00m\n\u001b[1;32m   1500\u001b[0m         \u001b[39m# and non-applicable functions\u001b[39;00m\n\u001b[1;32m   1501\u001b[0m         \u001b[39m# try to python agg\u001b[39;00m\n\u001b[1;32m   1502\u001b[0m         \u001b[39m# TODO: shouldn't min_count matter?\u001b[39;00m\n\u001b[1;32m   1503\u001b[0m         result \u001b[39m=\u001b[39m \u001b[39mself\u001b[39m\u001b[39m.\u001b[39m_agg_py_fallback(values, ndim\u001b[39m=\u001b[39mdata\u001b[39m.\u001b[39mndim, alt\u001b[39m=\u001b[39malt)\n",
      "File \u001b[0;32m~/projects/GameBuddy/steam/lib/python3.9/site-packages/pandas/core/groupby/ops.py:955\u001b[0m, in \u001b[0;36mBaseGrouper._cython_operation\u001b[0;34m(self, kind, values, how, axis, min_count, **kwargs)\u001b[0m\n\u001b[1;32m    950\u001b[0m \u001b[39m\u001b[39m\u001b[39m\"\"\"\u001b[39;00m\n\u001b[1;32m    951\u001b[0m \u001b[39mReturns the values of a cython operation.\u001b[39;00m\n\u001b[1;32m    952\u001b[0m \u001b[39m\"\"\"\u001b[39;00m\n\u001b[1;32m    953\u001b[0m \u001b[39massert\u001b[39;00m kind \u001b[39min\u001b[39;00m [\u001b[39m\"\u001b[39m\u001b[39mtransform\u001b[39m\u001b[39m\"\u001b[39m, \u001b[39m\"\u001b[39m\u001b[39maggregate\u001b[39m\u001b[39m\"\u001b[39m]\n\u001b[0;32m--> 955\u001b[0m cy_op \u001b[39m=\u001b[39m WrappedCythonOp(kind\u001b[39m=\u001b[39mkind, how\u001b[39m=\u001b[39mhow, has_dropped_na\u001b[39m=\u001b[39m\u001b[39mself\u001b[39;49m\u001b[39m.\u001b[39;49mhas_dropped_na)\n\u001b[1;32m    957\u001b[0m ids, _, _ \u001b[39m=\u001b[39m \u001b[39mself\u001b[39m\u001b[39m.\u001b[39mgroup_info\n\u001b[1;32m    958\u001b[0m ngroups \u001b[39m=\u001b[39m \u001b[39mself\u001b[39m\u001b[39m.\u001b[39mngroups\n",
      "File \u001b[0;32m~/projects/GameBuddy/steam/lib/python3.9/site-packages/pandas/_libs/properties.pyx:36\u001b[0m, in \u001b[0;36mpandas._libs.properties.CachedProperty.__get__\u001b[0;34m()\u001b[0m\n",
      "File \u001b[0;32m~/projects/GameBuddy/steam/lib/python3.9/site-packages/pandas/core/groupby/ops.py:869\u001b[0m, in \u001b[0;36mBaseGrouper.has_dropped_na\u001b[0;34m(self)\u001b[0m\n\u001b[1;32m    863\u001b[0m \u001b[39m@final\u001b[39m\n\u001b[1;32m    864\u001b[0m \u001b[39m@cache_readonly\u001b[39m\n\u001b[1;32m    865\u001b[0m \u001b[39mdef\u001b[39;00m \u001b[39mhas_dropped_na\u001b[39m(\u001b[39mself\u001b[39m) \u001b[39m-\u001b[39m\u001b[39m>\u001b[39m \u001b[39mbool\u001b[39m:\n\u001b[1;32m    866\u001b[0m \u001b[39m    \u001b[39m\u001b[39m\"\"\"\u001b[39;00m\n\u001b[1;32m    867\u001b[0m \u001b[39m    Whether grouper has null value(s) that are dropped.\u001b[39;00m\n\u001b[1;32m    868\u001b[0m \u001b[39m    \"\"\"\u001b[39;00m\n\u001b[0;32m--> 869\u001b[0m     \u001b[39mreturn\u001b[39;00m \u001b[39mbool\u001b[39m((\u001b[39mself\u001b[39;49m\u001b[39m.\u001b[39;49mgroup_info[\u001b[39m0\u001b[39m] \u001b[39m<\u001b[39m \u001b[39m0\u001b[39m)\u001b[39m.\u001b[39many())\n",
      "File \u001b[0;32m~/projects/GameBuddy/steam/lib/python3.9/site-packages/pandas/_libs/properties.pyx:36\u001b[0m, in \u001b[0;36mpandas._libs.properties.CachedProperty.__get__\u001b[0;34m()\u001b[0m\n",
      "File \u001b[0;32m~/projects/GameBuddy/steam/lib/python3.9/site-packages/pandas/core/groupby/ops.py:873\u001b[0m, in \u001b[0;36mBaseGrouper.group_info\u001b[0;34m(self)\u001b[0m\n\u001b[1;32m    871\u001b[0m \u001b[39m@cache_readonly\u001b[39m\n\u001b[1;32m    872\u001b[0m \u001b[39mdef\u001b[39;00m \u001b[39mgroup_info\u001b[39m(\u001b[39mself\u001b[39m) \u001b[39m-\u001b[39m\u001b[39m>\u001b[39m \u001b[39mtuple\u001b[39m[npt\u001b[39m.\u001b[39mNDArray[np\u001b[39m.\u001b[39mintp], npt\u001b[39m.\u001b[39mNDArray[np\u001b[39m.\u001b[39mintp], \u001b[39mint\u001b[39m]:\n\u001b[0;32m--> 873\u001b[0m     comp_ids, obs_group_ids \u001b[39m=\u001b[39m \u001b[39mself\u001b[39;49m\u001b[39m.\u001b[39;49m_get_compressed_codes()\n\u001b[1;32m    875\u001b[0m     ngroups \u001b[39m=\u001b[39m \u001b[39mlen\u001b[39m(obs_group_ids)\n\u001b[1;32m    876\u001b[0m     comp_ids \u001b[39m=\u001b[39m ensure_platform_int(comp_ids)\n",
      "File \u001b[0;32m~/projects/GameBuddy/steam/lib/python3.9/site-packages/pandas/core/groupby/ops.py:893\u001b[0m, in \u001b[0;36mBaseGrouper._get_compressed_codes\u001b[0;34m(self)\u001b[0m\n\u001b[1;32m    891\u001b[0m \u001b[39mif\u001b[39;00m \u001b[39mlen\u001b[39m(\u001b[39mself\u001b[39m\u001b[39m.\u001b[39mgroupings) \u001b[39m>\u001b[39m \u001b[39m1\u001b[39m:\n\u001b[1;32m    892\u001b[0m     group_index \u001b[39m=\u001b[39m get_group_index(\u001b[39mself\u001b[39m\u001b[39m.\u001b[39mcodes, \u001b[39mself\u001b[39m\u001b[39m.\u001b[39mshape, sort\u001b[39m=\u001b[39m\u001b[39mTrue\u001b[39;00m, xnull\u001b[39m=\u001b[39m\u001b[39mTrue\u001b[39;00m)\n\u001b[0;32m--> 893\u001b[0m     \u001b[39mreturn\u001b[39;00m compress_group_index(group_index, sort\u001b[39m=\u001b[39;49m\u001b[39mself\u001b[39;49m\u001b[39m.\u001b[39;49m_sort)\n\u001b[1;32m    894\u001b[0m     \u001b[39m# FIXME: compress_group_index's second return value is int64, not intp\u001b[39;00m\n\u001b[1;32m    896\u001b[0m ping \u001b[39m=\u001b[39m \u001b[39mself\u001b[39m\u001b[39m.\u001b[39mgroupings[\u001b[39m0\u001b[39m]\n",
      "File \u001b[0;32m~/projects/GameBuddy/steam/lib/python3.9/site-packages/pandas/core/sorting.py:690\u001b[0m, in \u001b[0;36mcompress_group_index\u001b[0;34m(group_index, sort)\u001b[0m\n\u001b[1;32m    687\u001b[0m comp_ids, obs_group_ids \u001b[39m=\u001b[39m table\u001b[39m.\u001b[39mget_labels_groupby(group_index)\n\u001b[1;32m    689\u001b[0m \u001b[39mif\u001b[39;00m sort \u001b[39mand\u001b[39;00m \u001b[39mlen\u001b[39m(obs_group_ids) \u001b[39m>\u001b[39m \u001b[39m0\u001b[39m:\n\u001b[0;32m--> 690\u001b[0m     obs_group_ids, comp_ids \u001b[39m=\u001b[39m _reorder_by_uniques(obs_group_ids, comp_ids)\n\u001b[1;32m    692\u001b[0m \u001b[39mreturn\u001b[39;00m ensure_int64(comp_ids), ensure_int64(obs_group_ids)\n",
      "File \u001b[0;32m~/projects/GameBuddy/steam/lib/python3.9/site-packages/pandas/core/sorting.py:710\u001b[0m, in \u001b[0;36m_reorder_by_uniques\u001b[0;34m(uniques, labels)\u001b[0m\n\u001b[1;32m    698\u001b[0m \u001b[39m\u001b[39m\u001b[39m\"\"\"\u001b[39;00m\n\u001b[1;32m    699\u001b[0m \u001b[39mParameters\u001b[39;00m\n\u001b[1;32m    700\u001b[0m \u001b[39m----------\u001b[39;00m\n\u001b[0;32m   (...)\u001b[0m\n\u001b[1;32m    707\u001b[0m \u001b[39mnp.ndarray[np.intp]\u001b[39;00m\n\u001b[1;32m    708\u001b[0m \u001b[39m\"\"\"\u001b[39;00m\n\u001b[1;32m    709\u001b[0m \u001b[39m# sorter is index where elements ought to go\u001b[39;00m\n\u001b[0;32m--> 710\u001b[0m sorter \u001b[39m=\u001b[39m uniques\u001b[39m.\u001b[39;49margsort()\n\u001b[1;32m    712\u001b[0m \u001b[39m# reverse_indexer is where elements came from\u001b[39;00m\n\u001b[1;32m    713\u001b[0m reverse_indexer \u001b[39m=\u001b[39m np\u001b[39m.\u001b[39mempty(\u001b[39mlen\u001b[39m(sorter), dtype\u001b[39m=\u001b[39mnp\u001b[39m.\u001b[39mintp)\n",
      "\u001b[0;31mKeyboardInterrupt\u001b[0m: "
     ]
    }
   ],
   "source": [
    "matrix, df = lfr.get_csr_matrix_for_all_users(cold_start_user)"
   ]
  }
 ],
 "metadata": {
  "kernelspec": {
   "display_name": "steam",
   "language": "python",
   "name": "python3"
  },
  "language_info": {
   "codemirror_mode": {
    "name": "ipython",
    "version": 3
   },
   "file_extension": ".py",
   "mimetype": "text/x-python",
   "name": "python",
   "nbconvert_exporter": "python",
   "pygments_lexer": "ipython3",
   "version": "3.9.6"
  },
  "orig_nbformat": 4
 },
 "nbformat": 4,
 "nbformat_minor": 2
}
