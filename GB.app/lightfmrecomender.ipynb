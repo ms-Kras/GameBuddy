{
 "cells": [
  {
   "cell_type": "code",
   "execution_count": 1,
   "metadata": {},
   "outputs": [
    {
     "name": "stderr",
     "output_type": "stream",
     "text": [
      "/Users/vasevooo/projects/GameBuddy/steam/lib/python3.9/site-packages/urllib3/__init__.py:34: NotOpenSSLWarning: urllib3 v2.0 only supports OpenSSL 1.1.1+, currently the 'ssl' module is compiled with 'LibreSSL 2.8.3'. See: https://github.com/urllib3/urllib3/issues/3020\n",
      "  warnings.warn(\n",
      "/Users/vasevooo/projects/GameBuddy/steam/lib/python3.9/site-packages/lightfm/_lightfm_fast.py:9: UserWarning: LightFM was compiled without OpenMP support. Only a single thread will be used.\n",
      "  warnings.warn(\n"
     ]
    }
   ],
   "source": [
    "from lightfm_recomender import LightfmRecomender\n",
    "import os\n",
    "%load_ext autoreload\n",
    "%autoreload 2\n",
    "new_directory = '/Users/vasevooo/projects/GameBuddy'\n",
    "os.chdir(new_directory)\n",
    "import pandas as pd \n",
    "import requests\n",
    "import json\n",
    "from sklearn.preprocessing import MinMaxScaler, StandardScaler\n",
    "import numpy as np\n",
    "from lightfm import LightFM\n",
    "from scipy.sparse import csr_matrix, save_npz, load_npz\n",
    "import re\n",
    "from bs4 import BeautifulSoup"
   ]
  },
  {
   "attachments": {},
   "cell_type": "markdown",
   "metadata": {},
   "source": [
    "### обновление предобработанных данных для модели "
   ]
  },
  {
   "cell_type": "code",
   "execution_count": 7,
   "metadata": {},
   "outputs": [],
   "source": [
    "games = pd.read_csv('data/game_info_with_scores.csv')\n",
    "item_dict ={}\n",
    "games = games[['appid', 'Name']].sort_values('appid').reset_index()\n",
    "games['appid'] = games['appid'].astype(int)\n",
    "\n",
    "for i in range(games.shape[0]):\n",
    "    item_dict[int(games.loc[i,'appid'])] = games.loc[i,'Name']"
   ]
  },
  {
   "cell_type": "code",
   "execution_count": 8,
   "metadata": {},
   "outputs": [],
   "source": [
    "## сохранение словаря по играм для дальнейшего использования\n",
    "\n",
    "with open(\"data/for_models/item_dict.json\", \"w\") as outfile:\n",
    "    json.dump(item_dict, outfile, indent=4)"
   ]
  },
  {
   "cell_type": "markdown",
   "metadata": {},
   "source": [
    "### Тест класса LigthFM Recomender"
   ]
  },
  {
   "cell_type": "code",
   "execution_count": 2,
   "metadata": {},
   "outputs": [],
   "source": [
    "item_dict_path = 'data/for_models/item_dict.json'\n",
    "gametime_df_path = 'data/final_gametime_df.csv'\n",
    "\n",
    "lfr = LightfmRecomender(gametime_df_path, item_dict_path)"
   ]
  },
  {
   "cell_type": "code",
   "execution_count": 25,
   "metadata": {},
   "outputs": [],
   "source": [
    "steam_url = 'https://steamcommunity.com/id/momuss/'"
   ]
  },
  {
   "cell_type": "code",
   "execution_count": 31,
   "metadata": {},
   "outputs": [],
   "source": [
    "new_user, steamid = lfr.get_user_games(steam_url)"
   ]
  },
  {
   "cell_type": "code",
   "execution_count": 32,
   "metadata": {},
   "outputs": [],
   "source": [
    "matrix, df = lfr.get_csr_matrix_for_all_users(new_user)"
   ]
  },
  {
   "cell_type": "code",
   "execution_count": 33,
   "metadata": {},
   "outputs": [],
   "source": [
    "## в приложении поставить 100 эпох. 1 для теста\n",
    "\n",
    "model = lfr.fit_model(matrix, epochs=1)"
   ]
  },
  {
   "cell_type": "code",
   "execution_count": 34,
   "metadata": {},
   "outputs": [
    {
     "name": "stdout",
     "output_type": "stream",
     "text": [
      "User: 76561197994384567\n",
      "Recommended Items:\n",
      "1- PAYDAY 2\n",
      "2- Portal 2\n",
      "3- The Witcher® 3: Wild Hunt\n",
      "4- Terraria\n",
      "5- Half-Life 2\n",
      "6- Garry's Mod\n",
      "7- The Elder Scrolls V: Skyrim\n",
      "8- Dying Light\n",
      "9- Tomb Raider\n",
      "10- Don't Starve Together\n",
      "\n",
      " Known Likes:\n",
      "1- Sea of Thieves 2023 Edition\n",
      "2- Dota Underlords\n",
      "3- Tropico 6\n",
      "4- Human: Fall Flat\n",
      "5- PAYDAY™ The Heist\n",
      "6- Warhammer® 40,000: Dawn of War® II Chaos Rising\n",
      "7- Command & Conquer: Red Alert 3\n",
      "8- Call of Duty®: Modern Warfare® 2 (2009)\n",
      "9- Call of Duty®: Modern Warfare® 2 (2009)\n",
      "10- Supreme Commander: Forged Alliance\n",
      "11- Sid Meier's Civilization® V\n",
      "12- Warhammer® 40,000: Dawn of War® - Game of the Year Edition\n",
      "13- Killing Floor\n",
      "14- Counter-Strike: Global Offensive\n",
      "15- Left 4 Dead 2\n",
      "16- Left 4 Dead\n",
      "17- Counter-Strike: Source\n",
      "18- Counter-Strike\n"
     ]
    }
   ],
   "source": [
    "lfr.sample_recommendation_user(model, df, steamid, threshold = 0, nrec_items = 10)"
   ]
  },
  {
   "attachments": {},
   "cell_type": "markdown",
   "metadata": {},
   "source": [
    "### cold start"
   ]
  },
  {
   "cell_type": "code",
   "execution_count": 23,
   "metadata": {},
   "outputs": [],
   "source": [
    "df_cold_start = pd.DataFrame({'game_names': ['Counter-Strike', 'Team Fortress Classic', \n",
    "                                             'Day of Defeat', \n",
    "                                             'Half-Life: Source', 'Half-Life: Opposing Force'],\n",
    "                   'rankings': [5, 5, 8, 7, 3]})"
   ]
  },
  {
   "cell_type": "code",
   "execution_count": null,
   "metadata": {},
   "outputs": [],
   "source": []
  },
  {
   "cell_type": "code",
   "execution_count": 24,
   "metadata": {},
   "outputs": [
    {
     "data": {
      "text/html": [
       "<div>\n",
       "<style scoped>\n",
       "    .dataframe tbody tr th:only-of-type {\n",
       "        vertical-align: middle;\n",
       "    }\n",
       "\n",
       "    .dataframe tbody tr th {\n",
       "        vertical-align: top;\n",
       "    }\n",
       "\n",
       "    .dataframe thead th {\n",
       "        text-align: right;\n",
       "    }\n",
       "</style>\n",
       "<table border=\"1\" class=\"dataframe\">\n",
       "  <thead>\n",
       "    <tr style=\"text-align: right;\">\n",
       "      <th></th>\n",
       "      <th>game_names</th>\n",
       "      <th>rankings</th>\n",
       "    </tr>\n",
       "  </thead>\n",
       "  <tbody>\n",
       "    <tr>\n",
       "      <th>0</th>\n",
       "      <td>Counter-Strike</td>\n",
       "      <td>5</td>\n",
       "    </tr>\n",
       "    <tr>\n",
       "      <th>1</th>\n",
       "      <td>Team Fortress Classic</td>\n",
       "      <td>5</td>\n",
       "    </tr>\n",
       "  </tbody>\n",
       "</table>\n",
       "</div>"
      ],
      "text/plain": [
       "              game_names  rankings\n",
       "0         Counter-Strike         5\n",
       "1  Team Fortress Classic         5"
      ]
     },
     "execution_count": 24,
     "metadata": {},
     "output_type": "execute_result"
    }
   ],
   "source": [
    "df_cold_start.head(2)"
   ]
  },
  {
   "cell_type": "code",
   "execution_count": 35,
   "metadata": {},
   "outputs": [],
   "source": [
    "cold_start_user, steamid_cold = lfr.get_user_games_cold_start(df_cold_start)"
   ]
  },
  {
   "cell_type": "code",
   "execution_count": 36,
   "metadata": {},
   "outputs": [],
   "source": [
    "matrix_cs, df_cs = lfr.get_csr_matrix_for_all_users(cold_start_user)"
   ]
  },
  {
   "cell_type": "code",
   "execution_count": 20,
   "metadata": {},
   "outputs": [],
   "source": [
    "## в приложении поставить 100 эпох. 1 для теста\n",
    "model = lfr.fit_model(matrix_cs, epochs=1)"
   ]
  },
  {
   "cell_type": "code",
   "execution_count": 38,
   "metadata": {},
   "outputs": [
    {
     "name": "stdout",
     "output_type": "stream",
     "text": [
      "User: 1234567891010102930\n",
      "Recommended Items:\n",
      "1- Counter-Strike: Global Offensive\n",
      "2- Left 4 Dead 2\n",
      "3- PAYDAY 2\n",
      "4- Portal 2\n",
      "5- The Witcher® 3: Wild Hunt\n",
      "6- Terraria\n",
      "7- Half-Life 2\n",
      "8- Garry's Mod\n",
      "9- The Elder Scrolls V: Skyrim\n",
      "10- Dying Light\n",
      "\n",
      " Known Likes:\n",
      "1- Half-Life: Source\n",
      "2- Day of Defeat\n",
      "3- Team Fortress Classic\n",
      "4- Counter-Strike\n"
     ]
    }
   ],
   "source": [
    "lfr.sample_recommendation_user(model, df_cs, steamid_cold, threshold = 0, nrec_items = 10)"
   ]
  },
  {
   "cell_type": "code",
   "execution_count": 4,
   "metadata": {},
   "outputs": [],
   "source": [
    "import pandas as pd \n",
    "import requests\n",
    "import json\n",
    "from sklearn.preprocessing import MinMaxScaler\n",
    "import numpy as np\n",
    "from lightfm import LightFM\n",
    "from scipy.sparse import csr_matrix\n",
    "import re\n",
    "from bs4 import BeautifulSoup\n",
    "\n",
    "\n",
    "import sqlite3\n",
    "\n",
    "\n",
    "class LightfmRecomender: \n",
    "    \n",
    "    def __init__(self, gametime_df_path, item_dict_path):\n",
    "\n",
    "        self.gametime_df = pd.read_csv(gametime_df_path)\n",
    "        self.scaler = MinMaxScaler(feature_range=(0,10))\n",
    "        self.gametime_df = self.__gametime_transform(self.gametime_df)\n",
    "        self.gametime_df.columns = ['steam_id', 'game_id', 'ranking']\n",
    "        self.item_dict = json.load(open(item_dict_path))\n",
    "        self.item_dict = {int(k): v for k, v in self.item_dict.items()}\n",
    "        self.model = LightFM(loss='bpr',\n",
    "                            random_state=42,\n",
    "                            learning_rate=0.10,\n",
    "                            no_components=100,\n",
    "                            user_alpha=0.000005)\n",
    "        \n",
    "    def __get_profile_id(self, url):\n",
    "        \n",
    "        userpage = requests.get(url)\n",
    "        user_page = BeautifulSoup(userpage.content, 'lxml')\n",
    "        text = str(user_page.find('div', class_=\"responsive_page_template_content\"))\n",
    "        steamid = int(text[text.find('\"steamid\"')+11:text.find('\"steamid\"')+28])\n",
    "        \n",
    "        return steamid\n",
    "\n",
    "    def __gametime_transform(self, df): \n",
    "        \n",
    "        df.iloc[:,:-1] = np.log(df.iloc[:,:-1])\n",
    "        df.iloc[:,:-1] = df.iloc[:,:-1].replace([np.inf, -np.inf], 0.0)\n",
    "        df.iloc[:,:-1] = self.scaler.fit_transform(df.iloc[:,:-1])\n",
    "        transformed_df = pd.melt(df, id_vars='steamid', var_name='game_id', value_name='ranking')\n",
    "        transformed_df['game_id'] = transformed_df['game_id'].astype(int)\n",
    "        \n",
    "        return transformed_df\n",
    "\n",
    "    def get_user_games(self, url):\n",
    "        \n",
    "        steamid = self.__get_profile_id(url)\n",
    "\n",
    "        url = f'https://api.steampowered.com/IPlayerService/GetOwnedGames/v1/?key=ED07BAAA8209FFE5932318F82B8242A6&format=json&steamid={steamid}'\n",
    "        response = requests.get(url)\n",
    "        profile = response.json()\n",
    "\n",
    "        id_df = pd.DataFrame([steamid], columns=['steam_id'])\n",
    "        for game in profile['response']['games']:\n",
    "            appid = game['appid']\n",
    "            playtime = game['playtime_forever']\n",
    "            temp_df = pd.DataFrame({\n",
    "                'steam_id': [steamid],\n",
    "                appid: [playtime]\n",
    "            })\n",
    "            id_df = pd.merge(id_df, temp_df, on='steam_id', how='inner')\n",
    "       \n",
    "        transformed_user_profile = pd.melt(id_df, id_vars='steam_id', var_name='game_id', value_name='ranking')\n",
    "        transformed_user_profile['game_id'] = transformed_user_profile['game_id'].astype(int)\n",
    "        transformed_user_profile['ranking'] = np.log(transformed_user_profile['ranking'].replace(0, np.nan)).replace(-np.inf, np.nan)\n",
    "        transformed_user_profile['ranking'] = self.scaler.fit_transform(transformed_user_profile[['ranking']])\n",
    "        transformed_user_profile['ranking'] = pd.to_numeric(transformed_user_profile['ranking'])\n",
    "        games_ids_df = self.__get_unique_games_ids()\n",
    "        merged_df = games_ids_df.merge(transformed_user_profile, on='game_id', how='left')\n",
    "        merged_df['steam_id'] = steamid\n",
    "        merged_df.fillna(0, inplace=True)\n",
    "            \n",
    "        return merged_df, steamid\n",
    "    \n",
    "    def get_user_games_cold_start (self, df): \n",
    "        df.columns = ['game_name', 'ranking']\n",
    "        df['game_id'] = df['game_name'].map({v: k for k, v in self.item_dict.items()})\n",
    "        df['ranking'] = self.scaler.fit_transform(df[['ranking']])\n",
    "        df.drop('game_name', axis=1)\n",
    "        games_ids_df = self.__get_unique_games_ids()\n",
    "        df = games_ids_df.merge(df, on='game_id', how='left')\n",
    "        df['steam_id'] = 1234567891010102930\n",
    "        df.fillna(0, inplace=True)\n",
    "        \n",
    "        return df, df['steam_id'][0]\n",
    "\n",
    "    \n",
    "    \n",
    "    def __get_unique_games_ids (self): \n",
    "        games_ids = self.gametime_df['game_id'].unique()\n",
    "        games_ids_df = pd.DataFrame(games_ids, columns=['game_id']).astype(int)\n",
    "\n",
    "        return games_ids_df\n",
    "    \n",
    "    def get_csr_matrix_for_all_users (self, df_user): \n",
    "        one_user_interactions = pd.pivot_table(df_user, index='steam_id', columns='game_id', values='ranking')\n",
    "        all_users_interactions = pd.pivot_table(self.gametime_df, index='steam_id', columns='game_id', values='ranking')\n",
    "        new_user_added_df = pd.concat([all_users_interactions, one_user_interactions], axis=0)\n",
    "        new_user_added_df = new_user_added_df.fillna(0)\n",
    "        new_user_added_df_csr = csr_matrix(new_user_added_df)\n",
    "\n",
    "        return new_user_added_df_csr, new_user_added_df\n",
    "    \n",
    "\n",
    "    def __get_steam_ids(self, df): \n",
    "        user_id = list(df.index)\n",
    "        user_dict = {}\n",
    "        counter = 0 \n",
    "        for i in user_id:\n",
    "            user_dict[i] = counter\n",
    "            counter += 1\n",
    "        return user_dict\n",
    "    \n",
    "    def fit_model (self, csr_matrix, num_threads = 8, epochs= 100): \n",
    "        model = self.model.fit(csr_matrix, num_threads=num_threads, epochs=epochs)\n",
    "\n",
    "        return model\n",
    "    \n",
    "    \n",
    "    def sample_recommendation_user(self, model, interactions, user_id,\n",
    "                               threshold = 0,nrec_items = 5, show = True):\n",
    "\n",
    "        self.user_dict = self.__get_steam_ids(interactions)\n",
    "\n",
    "\n",
    "        n_users, n_items = interactions.shape\n",
    "        user_x = self.user_dict[user_id]\n",
    "        scores = pd.Series(model.predict(user_x,np.arange(n_items), item_features=None))\n",
    "        scores.index = interactions.columns\n",
    "        scores = list(pd.Series(scores.sort_values(ascending=False).index))\n",
    "        \n",
    "        known_items = list(pd.Series(interactions.loc[user_id,:] \\\n",
    "                                    [interactions.loc[user_id,:] > threshold].index).sort_values(ascending=False))\n",
    "        \n",
    "        scores = [x for x in scores if x not in known_items]\n",
    "        return_score_list = scores[0:nrec_items]\n",
    "        known_items = [self.item_dict[x] if x in self.item_dict else x for x in known_items]\n",
    "        scores = [self.item_dict[x] if x in self.item_dict else x for x in return_score_list]\n",
    "        \n",
    "        if show == True:\n",
    "            print (\"User: \" + str(user_id))\n",
    "            print(\"Recommended Items:\")\n",
    "            counter = 1\n",
    "            for i in scores:\n",
    "                print(str(counter) + '- ' + str(i))\n",
    "                counter+=1\n",
    "\n",
    "\n",
    "            print(\"\\n Known Likes:\")\n",
    "            counter = 1\n",
    "            for i in known_items:\n",
    "                print(str(counter) + '- ' + str(i))\n",
    "                counter+=1\n",
    "        else:\n",
    "            return scores\n"
   ]
  },
  {
   "cell_type": "code",
   "execution_count": 8,
   "metadata": {},
   "outputs": [
    {
     "name": "stderr",
     "output_type": "stream",
     "text": [
      "/home/nika/miniforge3/envs/production/lib/python3.11/site-packages/pandas/core/internals/blocks.py:351: RuntimeWarning: divide by zero encountered in log\n",
      "  result = func(self.values, **kwargs)\n"
     ]
    }
   ],
   "source": [
    "db_path = '/home/nika/GameBuddy/GB.app/database.db'\n",
    "\n",
    "def view_game_info_table():\n",
    "    conn = sqlite3.connect(db_path)\n",
    "\n",
    "    # Чтение данных из таблицы game_info в DataFrame\n",
    "    query = \"SELECT game,rating FROM ratings\"\n",
    "    df = pd.read_sql_query(query, conn)\n",
    "\n",
    "    conn.close()\n",
    "\n",
    "    # Возвращение DataFrame\n",
    "    return df\n",
    "\n",
    "# Вызов функции для просмотра таблицы game_info в виде DataFrame\n",
    "\n",
    "df_cold_start = view_game_info_table()\n",
    "\n",
    "item_dict_path = '/home/nika/GameBuddy/data/for_models/item_dict.json'\n",
    "gametime_df_path = '/home/nika/GameBuddy/data/final_gametime_df.csv'\n",
    "\n",
    "lfr = LightfmRecomender(gametime_df_path, item_dict_path)\n",
    "cold_start_user, steamid_cold = lfr.get_user_games_cold_start(df_cold_start)\n",
    "\n",
    "matrix_cs, df_cs = lfr.get_csr_matrix_for_all_users(cold_start_user)\n",
    "\n",
    "model = lfr.fit_model(matrix_cs, epochs=1)\n",
    "\n",
    "top_10=lfr.sample_recommendation_user(model, df_cs, steamid_cold, threshold = 0, nrec_items = 10,show=False)\n",
    "def get_games_with_descriptions(top5):\n",
    "    conn = sqlite3.connect(db_path)\n",
    "    cursor = conn.cursor()\n",
    "    placeholders = ', '.join(['?'] * len(top5))\n",
    "    query = f\"SELECT Name, description FROM game_info WHERE Name IN ({placeholders})\"\n",
    "    cursor.execute(query, top5)\n",
    "    rows = cursor.fetchall()\n",
    "    conn.close()\n",
    "    game_names = [row[0] for row in rows]\n",
    "    game_descriptions = [row[1] for row in rows]\n",
    "    return list(zip(game_names, game_descriptions))\n",
    "\n",
    "get_games_with_descriptions(top_10)\n"
   ]
  },
  {
   "cell_type": "code",
   "execution_count": 1,
   "metadata": {},
   "outputs": [],
   "source": [
    "import sqlite3\n",
    "import pandas as pd"
   ]
  },
  {
   "cell_type": "code",
   "execution_count": 6,
   "metadata": {},
   "outputs": [
    {
     "name": "stderr",
     "output_type": "stream",
     "text": [
      "/home/nika/miniforge3/envs/production/lib/python3.11/site-packages/pandas/core/internals/blocks.py:351: RuntimeWarning: divide by zero encountered in log\n",
      "  result = func(self.values, **kwargs)\n"
     ]
    }
   ],
   "source": [
    "# ----------------------------------вот этот кусок вставить для получения списка рекомендаций-------------------------------------------------------------#\n",
    "from lightfm_recomender import LightfmRecomender\n",
    "\n",
    "db_path = '/home/nika/GameBuddy/GB.app/database.db'\n",
    "steam_url = 'https://steamcommunity.com/id/nevernox/'\n",
    "\n",
    "def lfm_games_with_descriptions(top5):\n",
    "    conn = sqlite3.connect('/home/nika/GameBuddy/GB.app/database.db')\n",
    "    cursor = conn.cursor()\n",
    "    placeholders = ', '.join(['?'] * len(top5))\n",
    "    query = f\"SELECT Name, description FROM game_info WHERE Name IN ({placeholders})\"\n",
    "    cursor.execute(query, top5)\n",
    "    rows = cursor.fetchall()\n",
    "    conn.close()\n",
    "    game_names = [row[0] for row in rows]\n",
    "    game_descriptions = [row[1] for row in rows]\n",
    "    return list(zip(game_names, game_descriptions))\n",
    "\n",
    "def lfm_game_info_table(db_path):\n",
    "    conn = sqlite3.connect(db_path)\n",
    "    query = \"SELECT game,rating FROM ratings\"\n",
    "    df = pd.read_sql_query(query, conn)\n",
    "    conn.close()\n",
    "    return df\n",
    "\n",
    "\n",
    "df_cold_start = lfm_game_info_table(db_path)\n",
    "item_dict_path = '/home/nika/GameBuddy/data/for_models/item_dict.json'\n",
    "gametime_df_path = '/home/nika/GameBuddy/data/final_gametime_df.csv'\n",
    "lfr = LightfmRecomender(gametime_df_path, item_dict_path)\n",
    "\n",
    "if steam_url is None:\n",
    "    cold_start_user, steamid_cold = lfr.get_user_games_cold_start(df_cold_start)\n",
    "    matrix_cs, df_cs = lfr.get_csr_matrix_for_all_users(cold_start_user)\n",
    "    model = lfr.fit_model(matrix_cs, epochs=1)\n",
    "    top_10=lfr.sample_recommendation_user(model, df_cs, steamid_cold, threshold = 0, nrec_items = 10,show=False)\n",
    "else:\n",
    "    new_user, steamid = lfr.get_user_games(steam_url)\n",
    "    matrix, df = lfr.get_csr_matrix_for_all_users(new_user)\n",
    "    model = lfr.fit_model(matrix, epochs=1)\n",
    "    top_10=lfr.sample_recommendation_user(model, df, steamid, threshold = 0, nrec_items = 10,show=False)\n",
    "\n",
    "lfm_reccomendations=lfm_games_with_descriptions(top_10)\n",
    "# ----------------------------------вот этот кусок вставить для получения списка рекомендаций-------------------------------------------------------------#"
   ]
  },
  {
   "cell_type": "code",
   "execution_count": null,
   "metadata": {},
   "outputs": [],
   "source": []
  },
  {
   "cell_type": "code",
   "execution_count": 7,
   "metadata": {},
   "outputs": [
    {
     "data": {
      "text/plain": [
       "[('Counter-Strike: Global Offensive',\n",
       "  'Counter-Strike: Global Offensive (CS: GO) expands upon the team-based action gameplay that it pioneered when it was launched 19 years ago. CS: GO features new maps, characters, weapons, and game modes, and delivers updated versions of the classic CS content (de_dust2, etc.).'),\n",
       " ('Grand Theft Auto V',\n",
       "  'Grand Theft Auto V for PC offers players the option to explore the award-winning world of Los Santos and Blaine County in resolutions of up to 4k and beyond, as well as the chance to experience the game running at 60 frames per second.'),\n",
       " (\"Garry's Mod\",\n",
       "  \"Garry's Mod is a physics sandbox. There aren't any predefined aims or goals. We give you the tools and leave you to play.\"),\n",
       " ('PAYDAY 2',\n",
       "  'PAYDAY 2 is an action-packed, four-player co-op shooter that once again lets gamers don the masks of the original PAYDAY crew - Dallas, Hoxton, Wolf and Chains - as they descend on Washington DC for an epic crime spree.'),\n",
       " ('Fallout: New Vegas', 'Welcome to Vegas. New Vegas. Enjoy your stay!'),\n",
       " ('Killing Floor',\n",
       "  '6-player co-op survival horror at its finest! Free updates, free special events and a ridiculous amount of fun!'),\n",
       " ('Dying Light',\n",
       "  'First-person action survival game set in a post-apocalyptic open world overrun by flesh-hungry zombies. Roam a city devastated by a mysterious virus epidemic. Scavenge for supplies, craft weapons, and face hordes of the infected.'),\n",
       " ('Saints Row: The Third',\n",
       "  'Get ready for the most out-landish gameplay scenarios ever seen as the Third Street Saints take on the Syndicate!'),\n",
       " ('Saints Row IV: Re-Elected',\n",
       "  'Experience the insane antics of Saints Row IV. The Saints have gone from the Penthouse to the White House - but Earth has been invaded and it’s up to you to save it with an arsenal of superpowers and strange weapons, in the wildest open world game ever.'),\n",
       " ('Tomb Raider',\n",
       "  'Tomb Raider explores the intense origin story of Lara Croft and her ascent from a young woman to a hardened survivor.'),\n",
       " ('Fallout: New Vegas', 'Welcome to Vegas. New Vegas. Enjoy your stay!')]"
      ]
     },
     "execution_count": 7,
     "metadata": {},
     "output_type": "execute_result"
    }
   ],
   "source": [
    "lfm_reccomendations"
   ]
  }
 ],
 "metadata": {
  "kernelspec": {
   "display_name": "steam",
   "language": "python",
   "name": "python3"
  },
  "language_info": {
   "codemirror_mode": {
    "name": "ipython",
    "version": 3
   },
   "file_extension": ".py",
   "mimetype": "text/x-python",
   "name": "python",
   "nbconvert_exporter": "python",
   "pygments_lexer": "ipython3",
   "version": "3.11.2"
  },
  "orig_nbformat": 4
 },
 "nbformat": 4,
 "nbformat_minor": 2
}
