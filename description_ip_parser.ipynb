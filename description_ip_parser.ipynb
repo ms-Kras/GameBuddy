{
 "cells": [
  {
   "cell_type": "code",
   "execution_count": 1,
   "id": "dda60229-5b4f-4682-87dd-2b1b52790558",
   "metadata": {},
   "outputs": [],
   "source": [
    "import requests\n",
    "from bs4 import BeautifulSoup\n",
    "import json\n",
    "import pandas as pd\n",
    "import math\n",
    "from tqdm import tqdm\n",
    "from time import sleep"
   ]
  },
  {
   "cell_type": "code",
   "execution_count": 16,
   "id": "7f79f8fc-048b-497e-b4f4-a2c42d75bf11",
   "metadata": {},
   "outputs": [],
   "source": [
    "appids = pd.read_csv('data/appids_no_ru.csv')"
   ]
  },
  {
   "cell_type": "code",
   "execution_count": null,
   "id": "fa512511-b042-4d32-89c9-a3f2313fff8b",
   "metadata": {},
   "outputs": [],
   "source": [
    "#парсим короткие, длинные и средние описания со страниц игр\n",
    "description_df = pd.DataFrame(columns=['game', 'short_description', 'detailed_description', 'about_the_game'])\n",
    "app_list = list(appids['appid'])\n",
    "for app in tqdm(app_list):\n",
    "        sleep(.3)\n",
    "        url = f'https://store.steampowered.com/api/appdetails?language=russian&appids={app}'\n",
    "        response = requests.get(url, headers={ 'Accept-Language': 'ru-RU, ru;q=0.9'})\n",
    "        try:\n",
    "            game = response.json()\n",
    "        except:\n",
    "            continue\n",
    "        game = response.json()    \n",
    "        try:\n",
    "            game[f'{app}']['data']['name']\n",
    "\n",
    "            \n",
    "        except:\n",
    "            continue\n",
    "        temp_df = pd.DataFrame({\n",
    "                    'game': [game[f'{app}']['data']['name']],\n",
    "                    'short_description': [game[f'{app}']['data']['short_description']],\n",
    "                    'detailed_description': [game[f'{app}']['data']['detailed_description']],\n",
    "                    'about_the_game': [game[f'{app}']['data']['about_the_game']]\n",
    "                })\n",
    "        description_df = pd.concat([description_df, temp_df], ignore_index=True)\n",
    "description_df"
   ]
  },
  {
   "cell_type": "code",
   "execution_count": 18,
   "id": "aee2865e-df8d-4d1a-b973-8e07bc9554a3",
   "metadata": {},
   "outputs": [],
   "source": [
    "description_df.to_csv(f'data/description_df_no_ru.csv', index=False)"
   ]
  },
  {
   "cell_type": "code",
   "execution_count": null,
   "id": "408b6d02-2704-47f6-a05a-de121e0453de",
   "metadata": {},
   "outputs": [],
   "source": []
  }
 ],
 "metadata": {
  "kernelspec": {
   "display_name": "Python 3 (ipykernel)",
   "language": "python",
   "name": "python3"
  },
  "language_info": {
   "codemirror_mode": {
    "name": "ipython",
    "version": 3
   },
   "file_extension": ".py",
   "mimetype": "text/x-python",
   "name": "python",
   "nbconvert_exporter": "python",
   "pygments_lexer": "ipython3",
   "version": "3.10.10"
  }
 },
 "nbformat": 4,
 "nbformat_minor": 5
}
